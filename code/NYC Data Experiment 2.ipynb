{
 "cells": [
  {
   "cell_type": "markdown",
   "metadata": {},
   "source": [
    "# NYC Taxi Data, Hotel Pairing Experiment (Part 2)\n",
    "\n",
    "In which I will try to develop the taxicab and hotel investigate further by using more data (Yellow and Green taxicab records) and more hotels, find the most frequented tourist attractions / business destinations, and draw clusters and heatmaps by time of day. "
   ]
  },
  {
   "cell_type": "code",
   "execution_count": 1,
   "metadata": {
    "collapsed": false
   },
   "outputs": [],
   "source": [
    "# imports...\n",
    "import csv, imp, os, numpy as np, pandas as pd, matplotlib.pyplot as plt\n",
    "from geopy.geocoders import Nominatim\n",
    "import gmplot\n",
    "from IPython.display import Image, display\n",
    "from IPython.core.display import HTML\n",
    "import webbrowser\n",
    "\n",
    "# importing helper methods\n",
    "from util import *\n",
    "\n",
    "# for auto-reloading external modules\n",
    "# see http://stackoverflow.com/questions/1907993/autoreload-of-modules-in-ipython\n",
    "%load_ext autoreload\n",
    "%autoreload 2\n",
    "\n",
    "# matplotlib setup\n",
    "%matplotlib inline\n",
    "plt.rcParams['figure.figsize'] = (10.0, 8.0) # set default size of plots\n",
    "plt.rcParams['image.interpolation'] = 'nearest'\n",
    "plt.rcParams['image.cmap'] = 'gray'"
   ]
  },
  {
   "cell_type": "markdown",
   "metadata": {},
   "source": [
    "### Importing and Cleaning Data\n",
    "\n",
    "Let's try reading in a Yellow taxicab data file from January 2016 to experiment with. This file is approximately 1.7Gb, so it should take some time to read in and process, but after we've done so, the rest of the analysis is less memory-intensive."
   ]
  },
  {
   "cell_type": "code",
   "execution_count": 8,
   "metadata": {
    "collapsed": false
   },
   "outputs": [],
   "source": [
    "# change this if you want to try different dataset(s)\n",
    "taxi_files = ['../data/yellow_tripdata_2016-01.csv']\n",
    "\n",
    "# variables to store pick-up and drop-off coordinates\n",
    "pickup_coords, dropoff_coords = [], []\n",
    "\n",
    "for taxi_file in taxi_files:\n",
    "    # let's load a single .csv file of taxicab records (say, January 2016)\n",
    "    taxi_data = pd.read_csv(taxi_file)\n",
    "        \n",
    "    # get relevant rows of the data and store them as numpy arrays\n",
    "    if 'green' in taxi_file:\n",
    "        pickup_lats, pickup_longs = np.array(taxi_data['Pickup_latitude']), np.array(taxi_data['Pickup_longitude'])\n",
    "        dropoff_lats, dropoff_longs = np.array(taxi_data['Dropoff_latitude']), np.array(taxi_data['Dropoff_longitude']),\n",
    "        pickup_datetimes = np.array(taxi_data['lpep_pickup_datetime'])\n",
    "    elif 'yellow' in taxi_file:\n",
    "        pickup_lats, pickup_longs = np.array(taxi_data['pickup_latitude']), np.array(taxi_data['pickup_longitude'])\n",
    "        dropoff_lats, dropoff_longs = np.array(taxi_data['dropoff_latitude']), np.array(taxi_data['dropoff_longitude']),\n",
    "        pickup_datetimes = np.array(taxi_data['tpep_pickup_datetime'])\n",
    "    else:\n",
    "        # this shouldn't happen\n",
    "        raise NotImplementedError\n",
    "\n",
    "    # remove the taxicab data from memory\n",
    "    del taxi_data\n",
    "\n",
    "    # zip together lats, longs for coordinates and append them to the lists\n",
    "    pickup_coords.append(zip(pickup_lats, pickup_longs))\n",
    "    dropoff_coords.append(zip(dropoff_lats, dropoff_longs))"
   ]
  },
  {
   "cell_type": "markdown",
   "metadata": {},
   "source": [
    "### Geolocating Hotels\n",
    "\n",
    "We use the geopy client for popular geolocation packages. We try the OpenStreetMap Nominatim service (https://nominatim.openstreetmap.org/), since it seems accurate and doesn't require authentication. I might move to Google's geolocation service (https://developers.google.com/maps/documentation/geolocation/intro), but I'm not sure this is necessary. It might be something to discuss with Prof. Rojas."
   ]
  },
  {
   "cell_type": "code",
   "execution_count": null,
   "metadata": {
    "collapsed": true
   },
   "outputs": [],
   "source": []
  }
 ],
 "metadata": {
  "kernelspec": {
   "display_name": "Python 2",
   "language": "python",
   "name": "python2"
  },
  "language_info": {
   "codemirror_mode": {
    "name": "ipython",
    "version": 2
   },
   "file_extension": ".py",
   "mimetype": "text/x-python",
   "name": "python",
   "nbconvert_exporter": "python",
   "pygments_lexer": "ipython2",
   "version": "2.7.9"
  }
 },
 "nbformat": 4,
 "nbformat_minor": 1
}
