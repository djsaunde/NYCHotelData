{
 "cells": [
  {
   "cell_type": "markdown",
   "metadata": {},
   "source": [
    "# NYC Taxi Data, Hotel Pairing Experiment (Part 2)\n",
    "\n",
    "In which I will try to develop the taxicab and hotel investigate further by using more data (Yellow and Green taxicab records) and more hotels, find the most frequented tourist attractions / business destinations, and draw clusters and heatmaps by time of day. "
   ]
  },
  {
   "cell_type": "code",
   "execution_count": 6,
   "metadata": {
    "collapsed": false
   },
   "outputs": [],
   "source": [
    "# imports...\n",
    "import csv, imp, os, numpy as np, pandas as pd, matplotlib.pyplot as plt\n",
    "from geopy.geocoders import Nominatim\n",
    "import gmplot\n",
    "from IPython.display import Image, display\n",
    "from IPython.core.display import HTML\n",
    "import webbrowser\n",
    "\n",
    "# importing helper methods\n",
    "from util import *\n",
    "\n",
    "# for auto-reloading external modules\n",
    "# see http://stackoverflow.com/questions/1907993/autoreload-of-modules-in-ipython\n",
    "%load_ext autoreload\n",
    "%autoreload 2\n",
    "\n",
    "# matplotlib setup\n",
    "%matplotlib inline\n",
    "plt.rcParams['figure.figsize'] = (10.0, 8.0) # set default size of plots\n",
    "plt.rcParams['image.interpolation'] = 'nearest'\n",
    "plt.rcParams['image.cmap'] = 'gray'"
   ]
  },
  {
   "cell_type": "markdown",
   "metadata": {},
   "source": [
    "### Importing and Cleaning Data\n",
    "\n",
    "Let's try reading in a Yellow taxicab data file from January 2016 to experiment with. This file is approximately 1.7Gb, so it should take some time to read in and process, but after we've done so, the rest of the analysis is less memory-intensive."
   ]
  },
  {
   "cell_type": "code",
   "execution_count": 8,
   "metadata": {
    "collapsed": false
   },
   "outputs": [],
   "source": [
    "# change this if you want to try different dataset(s)\n",
    "taxi_files = ['../data/yellow_tripdata_2016-01.csv']\n",
    "\n",
    "# variables to store pick-up and drop-off coordinates\n",
    "pickup_coords, dropoff_coords = [], []\n",
    "\n",
    "for taxi_file in taxi_files:\n",
    "    # let's load a single .csv file of taxicab records (say, January 2016)\n",
    "    taxi_data = pd.read_csv(taxi_file)\n",
    "        \n",
    "    # get relevant rows of the data and store them as numpy arrays\n",
    "    if 'green' in taxi_file:\n",
    "        pickup_lats, pickup_longs = np.array(taxi_data['Pickup_latitude']), np.array(taxi_data['Pickup_longitude'])\n",
    "        dropoff_lats, dropoff_longs = np.array(taxi_data['Dropoff_latitude']), np.array(taxi_data['Dropoff_longitude']),\n",
    "        pickup_datetimes = np.array(taxi_data['lpep_pickup_datetime'])\n",
    "    elif 'yellow' in taxi_file:\n",
    "        pickup_lats, pickup_longs = np.array(taxi_data['pickup_latitude']), np.array(taxi_data['pickup_longitude'])\n",
    "        dropoff_lats, dropoff_longs = np.array(taxi_data['dropoff_latitude']), np.array(taxi_data['dropoff_longitude']),\n",
    "        pickup_datetimes = np.array(taxi_data['tpep_pickup_datetime'])\n",
    "    else:\n",
    "        # this shouldn't happen\n",
    "        raise NotImplementedError\n",
    "\n",
    "    # remove the taxicab data from memory\n",
    "    del taxi_data\n",
    "\n",
    "    # zip together lats, longs for coordinates and append them to the lists\n",
    "    pickup_coords.append(zip(pickup_lats, pickup_longs))\n",
    "    dropoff_coords.append(zip(dropoff_lats, dropoff_longs))"
   ]
  },
  {
   "cell_type": "markdown",
   "metadata": {},
   "source": [
    "### Geolocating Hotels\n",
    "\n",
    "We use the geopy client for popular geolocation packages. We try the OpenStreetMap Nominatim service (https://nominatim.openstreetmap.org/), since it seems accurate and doesn't require authentication. I might move to Google's geolocation service (https://developers.google.com/maps/documentation/geolocation/intro), but I'm not sure this is necessary. It might be something to discuss with Prof. Rojas."
   ]
  },
  {
   "cell_type": "code",
   "execution_count": 20,
   "metadata": {
    "collapsed": false
   },
   "outputs": [
    {
     "name": "stdout",
     "output_type": "stream",
     "text": [
      "address: West 29th Street, Chelsea, Manhattan, New York County, NYC, New York, 10001, United States of America\n",
      "latitude, longitude: (40.7490521, -73.9957491)\n",
      "address: Affinia Dumont, 150, East 34th Street, Murray Hill, Manhattan, New York County, NYC, New York, 10016, United States of America\n",
      "latitude, longitude: (40.74591725, -73.9793137108362)\n",
      "address: 155, East 50th Street, Tudor City, Manhattan, New York County, NYC, New York, 10022, United States of America\n",
      "latitude, longitude: (40.7560454, -73.9710271)\n",
      "address: Seventh Avenue, City of Schenectady, Schenectady County, New York, 12303, United States of America\n",
      "latitude, longitude: (42.7948248, -73.9554192)\n",
      "address: 303, Lexington Avenue, Mount Kisco, Westchester County, New York, 10549, United States of America\n",
      "latitude, longitude: (41.1971066666667, -73.7324936)\n",
      "address: West 58th Street, Diamond District, Manhattan, New York County, NYC, New York, 10019, United States of America\n",
      "latitude, longitude: (40.7650275, -73.9766801)\n",
      "address: AKA Sutton Place, 330, East 56th Street, Tudor City, Manhattan, New York County, NYC, New York, 10022, United States of America\n",
      "latitude, longitude: (40.75790125, -73.9645472042274)\n",
      "address: AKA Times Square, 123, West 44th Street, Diamond District, Manhattan, New York County, NYC, New York, 10036, United States of America\n",
      "latitude, longitude: (40.75679575, -73.9841242132111)\n",
      "address: AKA United Nations, 234, East 46th Street, Tudor City, Manhattan, New York County, NYC, New York, 10017, United States of America\n",
      "latitude, longitude: (40.75257785, -73.971381955361)\n",
      "address: Algonquin Hotel, 59, West 44th Street, Diamond District, Manhattan, New York County, NYC, New York, 10036, United States of America\n",
      "latitude, longitude: (40.7559397, -73.9823469916667)\n",
      "address: 313, West 136th Street, Harlem, Manhattan, New York County, NYC, New York, 10030, United States of America\n",
      "latitude, longitude: (40.81762235, -73.946667335188)\n",
      "address: Americana Inn, 69, West 38th Street, Koreatown, Manhattan, New York County, NYC, New York, 10018, United States of America\n",
      "latitude, longitude: (40.7522336, -73.9855081)\n",
      "address: Ameritania at Times Square, 230, West 54th Street, Midtown West, Manhattan, New York County, NYC, New York, 10019, United States of America\n",
      "latitude, longitude: (40.7640637, -73.9828112)\n",
      "address: 226, West 50th Street, Hell's Kitchen, Manhattan, New York County, NYC, New York, 10019, United States of America\n",
      "latitude, longitude: (40.7616211, -73.9851985046091)\n",
      "address: Amsterdam Ale House, 340, Amsterdam Avenue, Upper West Side, Manhattan, New York County, NYC, New York, 10040, United States of America\n",
      "latitude, longitude: (40.7813756, -73.9798991)\n",
      "address: Andaz, 485, 5th Avenue, Murray Hill, Manhattan, New York County, NYC, New York, 10017, United States of America\n",
      "latitude, longitude: (40.7528315, -73.9810927)\n",
      "address: Andaz Wall Street, 75, Wall Street, Southbridge Towers, Manhattan, New York County, NYC, New York, 10005, United States of America\n",
      "latitude, longitude: (40.7051991, -74.0076661)\n",
      "address: Hotel Marrakech, 2688, Broadway, Upper West Side, Manhattan, New York County, NYC, New York, 10025, United States of America\n",
      "latitude, longitude: (40.79874195, -73.9682735223354)\n",
      "address: 160, Bleecker Street, Washington Square Village, Manhattan, New York County, NYC, New York, 10012, United States of America\n",
      "latitude, longitude: (40.7284771, -73.9999877)\n",
      "address: 16, East 32nd Street, Koreatown, Manhattan, New York County, NYC, New York, 10016, United States of America\n",
      "latitude, longitude: (40.7466674545455, -73.9845698181818)\n",
      "address: The Renwick Hotel, 118, East 40th Street, Murray Hill, Manhattan, New York County, NYC, New York, 10016, United States of America\n",
      "latitude, longitude: (40.7501799, -73.9776211)\n",
      "address: Belleclaire Hotel, 250, West 77th Street, Upper West Side, Manhattan, New York County, NYC, New York, 10024, United States of America\n",
      "latitude, longitude: (40.7825165, -73.9812483)\n",
      "address: 500, East 62nd Street, Lenox Hill, Manhattan, New York County, NYC, New York, 10065, United States of America\n",
      "latitude, longitude: (40.7602762, -73.9581436)\n",
      "address: Best Western Bowery Hanbee Hotel, 231, Grand Street, Chinatown, Manhattan, New York County, NYC, New York, 10013, United States of America\n",
      "latitude, longitude: (40.7184763, -73.9952733)\n",
      "address: Best Western Convention Center, 522, West 38th Street, Hell's Kitchen, Manhattan, New York County, NYC, New York, 10018, United States of America\n",
      "latitude, longitude: (40.7573258, -73.9982955)\n",
      "address: 145, East 49th Street, Tudor City, Manhattan, New York County, NYC, New York, 10022, United States of America\n",
      "latitude, longitude: (40.75575735, -73.9720307975549)\n",
      "address: President Hotel, 234, West 48th Street, Diamond District, Manhattan, New York County, NYC, New York, 10036, United States of America\n",
      "latitude, longitude: (40.7605187, -73.9864566893656)\n",
      "address: 33, Peck Slip, Southbridge Towers, Manhattan, New York County, NYC, New York, 10038, United States of America\n",
      "latitude, longitude: (40.7079843, -74.0014433)\n",
      "address: 136, West 55th Street, Hell's Kitchen, Manhattan, New York County, NYC, New York, 10019, United States of America\n",
      "latitude, longitude: (40.76344215, -73.9797938472658)\n",
      "address: 335, Bowery, NoHo, Manhattan, New York County, NYC, New York, 10003, United States of America\n",
      "latitude, longitude: (40.7260894, -73.9916567)\n",
      "address: Herald Towers, 50, West 34th Street, Koreatown, Manhattan, New York County, NYC, New York, 10001, United States of America\n",
      "latitude, longitude: (40.7492824, -73.9874904177438)\n",
      "address: 305, West 50th Street, Hell's Kitchen, Manhattan, New York County, NYC, New York, 10019, United States of America\n",
      "latitude, longitude: (40.7625386, -73.9864369)\n",
      "address: 777 Sixth Avenue, 777, 6th Avenue, Flatiron, Manhattan, New York County, NYC, New York, 10001, United States of America\n",
      "latitude, longitude: (40.745183, -73.9915520735832)\n"
     ]
    }
   ],
   "source": [
    "# get file containing hotel names and addresses\n",
    "hotel_file = open('hotel_addresses.txt', 'r').read().split('\\n')\n",
    "\n",
    "# split the file into lists of names and addresses\n",
    "hotel_names = [ line.split(',')[0] for line in hotel_file ]\n",
    "hotel_addresses = [ line.split(',')[1] for line in hotel_file ]\n",
    "\n",
    "# setting up geolocator object\n",
    "geolocator = Nominatim()\n",
    "\n",
    "# storing the geocode of the above addresses\n",
    "locations = []\n",
    "hotel_coords = []\n",
    "for hotel_address in hotel_addresses:\n",
    "    \n",
    "    location = geolocator.geocode(hotel_address)\n",
    "    if location == None:\n",
    "        continue\n",
    "        \n",
    "    locations.append(location)\n",
    "    \n",
    "    hotel_coord = (location.latitude, location.longitude)\n",
    "    \n",
    "    hotel_coords.append(hotel_coord)\n",
    "\n",
    "    print 'address:', location.address\n",
    "    print 'latitude, longitude:', hotel_coord"
   ]
  },
  {
   "cell_type": "code",
   "execution_count": null,
   "metadata": {
    "collapsed": true
   },
   "outputs": [],
   "source": []
  }
 ],
 "metadata": {
  "kernelspec": {
   "display_name": "Python 2",
   "language": "python",
   "name": "python2"
  },
  "language_info": {
   "codemirror_mode": {
    "name": "ipython",
    "version": 2
   },
   "file_extension": ".py",
   "mimetype": "text/x-python",
   "name": "python",
   "nbconvert_exporter": "python",
   "pygments_lexer": "ipython2",
   "version": "2.7.9"
  }
 },
 "nbformat": 4,
 "nbformat_minor": 1
}
