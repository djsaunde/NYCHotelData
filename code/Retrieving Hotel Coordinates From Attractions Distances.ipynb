{
 "cells": [
  {
   "cell_type": "code",
   "execution_count": 9,
   "metadata": {
    "collapsed": true
   },
   "outputs": [],
   "source": [
    "from __future__ import division\n",
    "\n",
    "# imports...\n",
    "from geopy.geocoders import Nominatim\n",
    "from geopy.distance import vincenty\n",
    "import numpy as np\n",
    "import itertools\n",
    "import math"
   ]
  },
  {
   "cell_type": "markdown",
   "metadata": {},
   "source": [
    "# Retrieving Hotel Coordinates from Attraction Distances\n",
    "\n",
    "Exercise: Given the coordinates of 3 (or 4, if needed) attractions, a hotel, and the distances from the hotel to each of the attractions, what are the coordinates of the hotel? First, let's define a couple of functions to calculate just that. We pick 3 (or 4) attractions to begin with, and keep them regardless of the hotel whose coordinates we wish to calculate."
   ]
  },
  {
   "cell_type": "code",
   "execution_count": 44,
   "metadata": {
    "collapsed": false
   },
   "outputs": [],
   "source": [
    "EPS = 0.000001\n",
    "\n",
    "def get_intersection_point(centers, radii):    \n",
    "    # store x and y dimensions and radius for easy-to-read code \n",
    "    x0, x1, x2 = centers[0][0], centers[1][0], centers[2][0]\n",
    "    y0, y1, y2 = centers[0][1], centers[1][1], centers[2][1]\n",
    "    r0, r1, r2 = radii[0], radii[1], radii[2]\n",
    "    \n",
    "    # store distances between circle centers (for circle 0 and 1)\n",
    "    dx = x1 - x0\n",
    "    dy = y1 - y0\n",
    "        \n",
    "    # determine the straight-line distance between the two centers\n",
    "    dist = math.sqrt(dy ** 2 + dx ** 2)\n",
    "    \n",
    "    print dist, r0, r1\n",
    "    \n",
    "    # check for solutions for the 2-circle case (do these circles intersect or does one contain the other?)\n",
    "    if dist > r0 + r1:\n",
    "        return None\n",
    "    if dist < abs(r0 - r1):\n",
    "        return None\n",
    "    \n",
    "    # calculate distance from the line through the circle intersection points and the line between the circle centers\n",
    "    a = (r0 ** 2 - r1 ** 2 + dist ** 2) / (2.0 * dist)\n",
    "    \n",
    "    # determine coordinates of this point\n",
    "    point_x = x0 + dx * (a / dist)\n",
    "    point_y = y0 + dy * (a / dist)\n",
    "    \n",
    "    # determine distance from this point to either of the intersection points\n",
    "    h = math.sqrt(r0 ** 2 - a ** 2)\n",
    "    \n",
    "    # determine the offsets of the intersection points from this point\n",
    "    rx = -dy * (h / dist)\n",
    "    ry = dx * (h / dist)\n",
    "    \n",
    "    # determine the absolute intersection points\n",
    "    intersection1_x = point_x + rx\n",
    "    intersection2_x = point_x - rx\n",
    "    intersection1_y = point_y + ry\n",
    "    intersection2_y = point_y - ry\n",
    "    \n",
    "    # determine if circle 3 intersects at either of the above intersection points\n",
    "    dx = intersection1_x - x2\n",
    "    dy = intersection1_y - y2\n",
    "    d1 = math.sqrt(dy ** 2 + dx ** 2)\n",
    "    \n",
    "    dx = intersection2_x - x2\n",
    "    dy = intersection2_y - y2\n",
    "    d2 = math.sqrt(dy ** 2 + dx ** 2)\n",
    "        \n",
    "    # check for intersection\n",
    "    if abs(d1 - r2) < EPS:\n",
    "        return intersection1_x, intersection1_y\n",
    "    elif abs(d2 - r2) < EPS:\n",
    "        return intersection2_x, intersection2_y\n",
    "    return None  \n",
    "\n",
    "def get_hotel_coords(attr_coords, distances):\n",
    "    # try each permutation of the distances\n",
    "    for perm in itertools.permutations(distances):\n",
    "        # calculate intersection point\n",
    "        intersection = get_intersection_point(attr_coords, perm)\n",
    "        # could come back as NoneType; we check for this here\n",
    "        if intersection:\n",
    "            return intersection\n",
    "        \n",
    "def get_radius(cx, cy, px, py):\n",
    "    dx = px - cx\n",
    "    dy = py - cy\n",
    "    return math.sqrt(dx ** 2 + dy ** 2)"
   ]
  },
  {
   "cell_type": "markdown",
   "metadata": {},
   "source": [
    "## Testing the Function"
   ]
  },
  {
   "cell_type": "code",
   "execution_count": 46,
   "metadata": {
    "collapsed": false
   },
   "outputs": [
    {
     "name": "stdout",
     "output_type": "stream",
     "text": [
      "0.0160455 0.0199909312151\n",
      "0.025633872144 0.00893091325691 0.0186484864596\n",
      "0.0195506265181 0.0239783119986 0.0195506265181\n",
      "found vs. actual hotel coordinates: \n",
      "(40.76447735, -73.9744894761588) \n",
      "(40.76447735, -73.9744894761588)\n",
      "found vs. actual hotel address:"
     ]
    },
    {
     "ename": "TypeError",
     "evalue": "cannot concatenate 'str' and 'Location' objects",
     "output_type": "error",
     "traceback": [
      "\u001b[0;31m---------------------------------------------------------------------------\u001b[0m",
      "\u001b[0;31mTypeError\u001b[0m                                 Traceback (most recent call last)",
      "\u001b[0;32m<ipython-input-46-3a6d3a7f82f2>\u001b[0m in \u001b[0;36m<module>\u001b[0;34m()\u001b[0m\n\u001b[1;32m     33\u001b[0m \u001b[0;31m# get corresponding address from found coordinates\u001b[0m\u001b[0;34m\u001b[0m\u001b[0;34m\u001b[0m\u001b[0m\n\u001b[1;32m     34\u001b[0m \u001b[0mfound_hotel_address\u001b[0m \u001b[0;34m=\u001b[0m \u001b[0mgeolocator\u001b[0m\u001b[0;34m.\u001b[0m\u001b[0mreverse\u001b[0m\u001b[0;34m(\u001b[0m\u001b[0mfound_hotel_coords\u001b[0m\u001b[0;34m)\u001b[0m\u001b[0;34m\u001b[0m\u001b[0m\n\u001b[0;32m---> 35\u001b[0;31m \u001b[0;32mprint\u001b[0m \u001b[0;34m'found vs. actual hotel address:'\u001b[0m\u001b[0;34m,\u001b[0m \u001b[0;34m'\\n'\u001b[0m \u001b[0;34m+\u001b[0m \u001b[0mfound_hotel_address\u001b[0m\u001b[0;34m,\u001b[0m \u001b[0;34m'\\n'\u001b[0m \u001b[0;34m+\u001b[0m \u001b[0mhotel_address\u001b[0m\u001b[0;34m\u001b[0m\u001b[0m\n\u001b[0m",
      "\u001b[0;31mTypeError\u001b[0m: cannot concatenate 'str' and 'Location' objects"
     ]
    }
   ],
   "source": [
    "# specifying addresses of three attractions in NYC\n",
    "attr1 = '1681 Broadway, New York, NY 10019' # Broadway Theatre\n",
    "attr2 = '1000 5th Ave, New York, NY 10028' # The Metropolitan Museum of Art\n",
    "attr3 = '350 5th Ave, New York, NY 10118' # Empire State Building\n",
    "\n",
    "# creating geolocator object\n",
    "geolocator = Nominatim()\n",
    "\n",
    "# getting locations of attractions\n",
    "loc1, loc2, loc3 = geolocator.geocode(attr1), geolocator.geocode(attr2), geolocator.geocode(attr3)\n",
    "\n",
    "# storing the latitude and longitude of each attraction\n",
    "coords = [ (loc1.latitude, loc1.longitude), (loc2.latitude, loc2.longitude), (loc3.latitude, loc3.longitude) ]\n",
    "\n",
    "# specifying address of a hotel in NYC\n",
    "hotel_address = '768 5th Ave, New York, NY 10019' # The Plaza, NYC Hotel\n",
    "\n",
    "# getting hotel coords\n",
    "hotel_loc = geolocator.geocode(hotel_address)\n",
    "hotel_coords = (hotel_loc.latitude, hotel_loc.longitude)\n",
    "\n",
    "# get distances from the hotel to each attraction (in miles)\n",
    "dist1 = get_radius(hotel_coords[0], hotel_coords[1], coords[0][0], coords[0][1])\n",
    "dist2 = get_radius(hotel_coords[0], hotel_coords[1], coords[1][0], coords[1][1])\n",
    "dist3 = get_radius(hotel_coords[0], hotel_coords[1], coords[2][0], coords[2][1])\n",
    "\n",
    "distances = dist1, dist2, dist3\n",
    "\n",
    "# pass coordinates of the attractions and the calculates hotel -> attraction distances to hotel-finding function\n",
    "found_hotel_coords = get_hotel_coords(coords, distances)\n",
    "print 'found vs. actual hotel coordinates:', '\\n' + str(found_hotel_coords), '\\n' + str(hotel_coords)\n",
    "\n",
    "# get corresponding address from found coordinates\n",
    "found_hotel_address = geolocator.reverse(found_hotel_coords)\n",
    "print 'found vs. actual hotel address:', '\\n' + found_hotel_address, '\\n' + hotel_address"
   ]
  },
  {
   "cell_type": "code",
   "execution_count": null,
   "metadata": {
    "collapsed": true
   },
   "outputs": [],
   "source": []
  }
 ],
 "metadata": {
  "kernelspec": {
   "display_name": "Python 2",
   "language": "python",
   "name": "python2"
  },
  "language_info": {
   "codemirror_mode": {
    "name": "ipython",
    "version": 2
   },
   "file_extension": ".py",
   "mimetype": "text/x-python",
   "name": "python",
   "nbconvert_exporter": "python",
   "pygments_lexer": "ipython2",
   "version": "2.7.9"
  }
 },
 "nbformat": 4,
 "nbformat_minor": 1
}
