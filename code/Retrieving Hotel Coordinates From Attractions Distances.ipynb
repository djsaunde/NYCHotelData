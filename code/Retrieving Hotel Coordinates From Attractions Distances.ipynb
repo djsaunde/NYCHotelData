{
 "cells": [
  {
   "cell_type": "code",
   "execution_count": 9,
   "metadata": {
    "collapsed": true
   },
   "outputs": [],
   "source": [
    "from __future__ import division\n",
    "\n",
    "# imports...\n",
    "from geopy.geocoders import Nominatim\n",
    "from geopy.distance import vincenty\n",
    "import numpy as np\n",
    "import itertools\n",
    "import math"
   ]
  },
  {
   "cell_type": "markdown",
   "metadata": {},
   "source": [
    "# Retrieving Hotel Coordinates from Attraction Distances\n",
    "\n",
    "Exercise: Given the coordinates of 3 (or 4, if needed) attractions, a hotel, and the distances from the hotel to each of the attractions, what are the coordinates of the hotel? First, let's define a couple of functions to calculate just that. We pick 3 (or 4) attractions to begin with, and keep them regardless of the hotel whose coordinates we wish to calculate."
   ]
  },
  {
   "cell_type": "code",
   "execution_count": 50,
   "metadata": {
    "collapsed": false
   },
   "outputs": [],
   "source": [
    "# tolerance level for intersection point\n",
    "EPS = 0.000001\n",
    "\n",
    "def get_intersection_point(centers, radii):    \n",
    "    # store x and y dimensions and radius for easy-to-read code \n",
    "    x0, x1, x2 = centers[0][0], centers[1][0], centers[2][0]\n",
    "    y0, y1, y2 = centers[0][1], centers[1][1], centers[2][1]\n",
    "    r0, r1, r2 = radii[0], radii[1], radii[2]\n",
    "    \n",
    "    # store distances between circle centers (for circle 0 and 1)\n",
    "    dx = x1 - x0\n",
    "    dy = y1 - y0\n",
    "        \n",
    "    # determine the straight-line distance between the two centers\n",
    "    dist = math.sqrt(dy ** 2 + dx ** 2)\n",
    "    \n",
    "    print dist, r0, r1\n",
    "    \n",
    "    # check for solutions for the 2-circle case (do these circles intersect or does one contain the other?)\n",
    "    if dist > r0 + r1:\n",
    "        return None\n",
    "    if dist < abs(r0 - r1):\n",
    "        return None\n",
    "    \n",
    "    # calculate distance from the line through the circle intersection points and the line between the circle centers\n",
    "    a = (r0 ** 2 - r1 ** 2 + dist ** 2) / (2.0 * dist)\n",
    "    \n",
    "    # determine coordinates of this point\n",
    "    point_x = x0 + dx * (a / dist)\n",
    "    point_y = y0 + dy * (a / dist)\n",
    "    \n",
    "    # determine distance from this point to either of the intersection points\n",
    "    h = math.sqrt(r0 ** 2 - a ** 2)\n",
    "    \n",
    "    # determine the offsets of the intersection points from this point\n",
    "    rx = -dy * (h / dist)\n",
    "    ry = dx * (h / dist)\n",
    "    \n",
    "    # determine the absolute intersection points\n",
    "    intersection1_x = point_x + rx\n",
    "    intersection2_x = point_x - rx\n",
    "    intersection1_y = point_y + ry\n",
    "    intersection2_y = point_y - ry\n",
    "    \n",
    "    # determine if circle 3 intersects at either of the above intersection points\n",
    "    dx = intersection1_x - x2\n",
    "    dy = intersection1_y - y2\n",
    "    d1 = math.sqrt(dy ** 2 + dx ** 2)\n",
    "    \n",
    "    dx = intersection2_x - x2\n",
    "    dy = intersection2_y - y2\n",
    "    d2 = math.sqrt(dy ** 2 + dx ** 2)\n",
    "        \n",
    "    # check for intersection\n",
    "    if abs(d1 - r2) < EPS:\n",
    "        return intersection1_x, intersection1_y\n",
    "    elif abs(d2 - r2) < EPS:\n",
    "        return intersection2_x, intersection2_y\n",
    "    return None  \n",
    "\n",
    "def get_hotel_coords(attr_coords, distances):\n",
    "    # try each permutation of the distances\n",
    "    for perm in itertools.permutations(distances):\n",
    "        # calculate intersection point\n",
    "        intersection = get_intersection_point(attr_coords, perm)\n",
    "        # could come back as NoneType; we check for this here\n",
    "        if intersection:\n",
    "            return intersection\n",
    "        \n",
    "def get_radius(cx, cy, px, py):\n",
    "    dx = px - cx\n",
    "    dy = py - cy\n",
    "    return math.sqrt(dx ** 2 + dy ** 2)"
   ]
  },
  {
   "cell_type": "markdown",
   "metadata": {},
   "source": [
    "## Testing the Function..."
   ]
  },
  {
   "cell_type": "code",
   "execution_count": 49,
   "metadata": {
    "collapsed": false
   },
   "outputs": [
    {
     "name": "stdout",
     "output_type": "stream",
     "text": [
      " 0.025633872144 0.00893091325691 0.0186484864596\n",
      "found vs. actual hotel coordinates: \n",
      "(40.76447735, -73.9744894761588) \n",
      "(40.76447735, -73.9744894761588)\n",
      "found vs. actual hotel address: \n",
      "Plaza Hotel, 768, 5th Avenue, Diamond District, Manhattan, New York County, NYC, New York, 10035, United States of America \n",
      "768 5th Ave, New York, NY 10019\n"
     ]
    }
   ],
   "source": [
    "# specifying addresses of three attractions in NYC\n",
    "attr1 = '1681 Broadway, New York, NY 10019' # Broadway Theatre\n",
    "attr2 = '1000 5th Ave, New York, NY 10028' # The Metropolitan Museum of Art\n",
    "attr3 = '350 5th Ave, New York, NY 10118' # Empire State Building\n",
    "\n",
    "# creating geolocator object\n",
    "geolocator = Nominatim()\n",
    "\n",
    "# getting locations of attractions\n",
    "loc1, loc2, loc3 = geolocator.geocode(attr1), geolocator.geocode(attr2), geolocator.geocode(attr3)\n",
    "\n",
    "# storing the latitude and longitude of each attraction\n",
    "coords = [ (loc1.latitude, loc1.longitude), (loc2.latitude, loc2.longitude), (loc3.latitude, loc3.longitude) ]\n",
    "\n",
    "# specifying address of a hotel in NYC\n",
    "hotel_address = '768 5th Ave, New York, NY 10019' # The Plaza, NYC Hotel\n",
    "\n",
    "# getting hotel coords\n",
    "hotel_loc = geolocator.geocode(hotel_address)\n",
    "hotel_coords = (hotel_loc.latitude, hotel_loc.longitude)\n",
    "\n",
    "# get distances from the hotel to each attraction (in miles)\n",
    "dist1 = get_radius(hotel_coords[0], hotel_coords[1], coords[0][0], coords[0][1])\n",
    "dist2 = get_radius(hotel_coords[0], hotel_coords[1], coords[1][0], coords[1][1])\n",
    "dist3 = get_radius(hotel_coords[0], hotel_coords[1], coords[2][0], coords[2][1])\n",
    "\n",
    "distances = dist1, dist2, dist3\n",
    "\n",
    "# pass coordinates of the attractions and the calculates hotel -> attraction distances to hotel-finding function\n",
    "found_hotel_coords = get_hotel_coords(coords, distances)\n",
    "print 'found vs. actual hotel coordinates:', '\\n' + str(found_hotel_coords), '\\n' + str(hotel_coords)\n",
    "\n",
    "# get corresponding address from found coordinates\n",
    "found_hotel_address = geolocator.reverse(found_hotel_coords)\n",
    "print 'found vs. actual hotel address:', '\\n' + str(found_hotel_address), '\\n' + str(hotel_address)"
   ]
  },
  {
   "cell_type": "markdown",
   "metadata": {
    "collapsed": true
   },
   "source": [
    "## Let's Try More Hotels!\n",
    "\n",
    "Let's define a function which will allow us to put this work into a pipeline."
   ]
  },
  {
   "cell_type": "code",
   "execution_count": 52,
   "metadata": {
    "collapsed": true
   },
   "outputs": [],
   "source": [
    "def retrieve_hotel_from_masked_attractions(hotel_address):\n",
    "    # specifying addresses of three attractions in NYC\n",
    "    attr1 = '1681 Broadway, New York, NY 10019' # Broadway Theatre\n",
    "    attr2 = '1000 5th Ave, New York, NY 10028' # The Metropolitan Museum of Art\n",
    "    attr3 = '350 5th Ave, New York, NY 10118' # Empire State Building\n",
    "\n",
    "    # creating geolocator object\n",
    "    geolocator = Nominatim()\n",
    "\n",
    "    # getting locations of attractions\n",
    "    loc1, loc2, loc3 = geolocator.geocode(attr1), geolocator.geocode(attr2), geolocator.geocode(attr3)\n",
    "\n",
    "    # storing the latitude and longitude of each attraction\n",
    "    coords = [ (loc1.latitude, loc1.longitude), (loc2.latitude, loc2.longitude), (loc3.latitude, loc3.longitude) ]\n",
    "    \n",
    "    # getting hotel coords\n",
    "    hotel_loc = geolocator.geocode(hotel_address)\n",
    "    hotel_coords = (hotel_loc.latitude, hotel_loc.longitude)\n",
    "\n",
    "    # get distances from the hotel to each attraction (in miles)\n",
    "    dist1 = get_radius(hotel_coords[0], hotel_coords[1], coords[0][0], coords[0][1])\n",
    "    dist2 = get_radius(hotel_coords[0], hotel_coords[1], coords[1][0], coords[1][1])\n",
    "    dist3 = get_radius(hotel_coords[0], hotel_coords[1], coords[2][0], coords[2][1])\n",
    "\n",
    "    distances = dist1, dist2, dist3\n",
    "\n",
    "    # pass coordinates of the attractions and the calculates hotel -> attraction distances to hotel-finding function\n",
    "    found_hotel_coords = get_hotel_coords(coords, distances)\n",
    "    print 'found vs. actual hotel coordinates:', '\\n' + str(found_hotel_coords), '\\n' + str(hotel_coords)\n",
    "\n",
    "    # get corresponding address from found coordinates\n",
    "    found_hotel_address = geolocator.reverse(found_hotel_coords)\n",
    "    print 'found vs. actual hotel address:', '\\n' + str(found_hotel_address), '\\n' + str(hotel_address)\n",
    "    \n",
    "    print '\\n'"
   ]
  },
  {
   "cell_type": "markdown",
   "metadata": {},
   "source": [
    "Let's test our pipeline with, say, 5 more hotels."
   ]
  },
  {
   "cell_type": "code",
   "execution_count": 53,
   "metadata": {
    "collapsed": false
   },
   "outputs": [
    {
     "name": "stdout",
     "output_type": "stream",
     "text": [
      "0.025633872144 0.0189584869414 0.0444121618053\n",
      "found vs. actual hotel coordinates: \n",
      "(40.7490521, -73.9957491) \n",
      "(40.7490521, -73.9957491)\n",
      "found vs. actual hotel address: \n",
      "383, 8th Avenue, Chelsea, Manhattan, New York County, NYC, New York, 10001, United States of America \n",
      "20 W 29th St, New York, NY 10001\n"
     ]
    }
   ],
   "source": [
    "retrieve_hotel_from_masked_attractions('20 W 29th St, New York, NY 10001') # Ace Hotel New York"
   ]
  },
  {
   "cell_type": "code",
   "execution_count": 54,
   "metadata": {
    "collapsed": false
   },
   "outputs": [
    {
     "name": "stdout",
     "output_type": "stream",
     "text": [
      "0.025633872144 0.00452920551082 0.0293852546285\n",
      "found vs. actual hotel coordinates: \n",
      "(40.7590118, -73.9844835) \n",
      "(40.7590118, -73.9844835)\n",
      "found vs. actual hotel address: \n",
      "160, West 47th Street, Diamond District, Manhattan, New York County, NYC, New York, 10036, United States of America \n",
      "1568 Broadway, New York, NY 10036\n"
     ]
    }
   ],
   "source": [
    "retrieve_hotel_from_masked_attractions('1568 Broadway, New York, NY 10036') # DoubleTree Suites by Hilton Hotel"
   ]
  },
  {
   "cell_type": "code",
   "execution_count": 55,
   "metadata": {
    "collapsed": false
   },
   "outputs": [
    {
     "name": "stdout",
     "output_type": "stream",
     "text": [
      "0.025633872144 0.00556823858535 0.0309119783391\n",
      "found vs. actual hotel coordinates: \n",
      "(40.7586143, -73.9862045169859) \n",
      "(40.7586143, -73.9862045169859)\n",
      "found vs. actual hotel address: \n",
      "New York Marriott Marquis, 1535, Broadway, Diamond District, Manhattan, New York County, NYC, New York, 10019, United States of America \n",
      "1535 Broadway, New York, NY 10036\n"
     ]
    }
   ],
   "source": [
    "retrieve_hotel_from_masked_attractions('1535 Broadway, New York, NY 10036') # New York Marriott Marquis"
   ]
  },
  {
   "cell_type": "code",
   "execution_count": 56,
   "metadata": {
    "collapsed": false
   },
   "outputs": [
    {
     "name": "stdout",
     "output_type": "stream",
     "text": [
      "0.025633872144 0.00755785669377 0.0190624860991\n",
      "found vs. actual hotel coordinates: \n",
      "(40.7651799, -73.9760101125474) \n",
      "(40.7651799, -73.9760101125474)\n",
      "found vs. actual hotel address: \n",
      "The Ritz-Carlton, 50, Central Park South, Diamond District, Manhattan, New York County, NYC, New York, 10019, United States of America \n",
      "50 Central Park S, New York, NY 10019\n"
     ]
    }
   ],
   "source": [
    "retrieve_hotel_from_masked_attractions('50 Central Park S, New York, NY 10019') # The Ritz-Carlton NYC"
   ]
  },
  {
   "cell_type": "code",
   "execution_count": 57,
   "metadata": {
    "collapsed": false
   },
   "outputs": [
    {
     "name": "stdout",
     "output_type": "stream",
     "text": [
      "0.025633872144 0.0101524701073 0.0243052417767\n",
      "found vs. actual hotel coordinates: \n",
      "(40.75798035, -73.9747689045104) \n",
      "(40.75798035, -73.9747689045104)\n",
      "found vs. actual hotel address: \n",
      "The New York Palace, 455, Madison Avenue, Diamond District, Manhattan, New York County, NYC, New York, 10037, United States of America \n",
      "455 Madison Ave, New York, NY 10022\n"
     ]
    }
   ],
   "source": [
    "retrieve_hotel_from_masked_attractions('455 Madison Ave, New York, NY 10022') # Lotte New York Palace"
   ]
  },
  {
   "cell_type": "code",
   "execution_count": null,
   "metadata": {
    "collapsed": true
   },
   "outputs": [],
   "source": []
  }
 ],
 "metadata": {
  "kernelspec": {
   "display_name": "Python 2",
   "language": "python",
   "name": "python2"
  },
  "language_info": {
   "codemirror_mode": {
    "name": "ipython",
    "version": 2
   },
   "file_extension": ".py",
   "mimetype": "text/x-python",
   "name": "python",
   "nbconvert_exporter": "python",
   "pygments_lexer": "ipython2",
   "version": "2.7.9"
  }
 },
 "nbformat": 4,
 "nbformat_minor": 1
}
