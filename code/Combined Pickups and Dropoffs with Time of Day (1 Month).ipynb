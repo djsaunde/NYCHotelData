{
 "cells": [
  {
   "cell_type": "markdown",
   "metadata": {},
   "source": [
    "# Combined Pickups and Dropoffs with Time of Day (1 Month)"
   ]
  },
  {
   "cell_type": "code",
   "execution_count": 1,
   "metadata": {
    "collapsed": true
   },
   "outputs": [],
   "source": [
    "# imports...\n",
    "import csv, imp, os, numpy as np, pandas as pd, matplotlib.pyplot as plt\n",
    "import gmplot\n",
    "from IPython.display import Image, display\n",
    "from IPython.core.display import HTML\n",
    "import webbrowser\n",
    "\n",
    "# importing helper methods\n",
    "from util import *\n",
    "\n",
    "# for auto-reloading external modules\n",
    "# see http://stackoverflow.com/questions/1907993/autoreload-of-modules-in-ipython\n",
    "%load_ext autoreload\n",
    "%autoreload 2\n",
    "\n",
    "# matplotlib setup\n",
    "%matplotlib inline\n",
    "plt.rcParams['figure.figsize'] = (10.0, 8.0) # set default size of plots\n",
    "plt.rcParams['image.interpolation'] = 'nearest'\n",
    "plt.rcParams['image.cmap'] = 'gray'"
   ]
  },
  {
   "cell_type": "code",
   "execution_count": 9,
   "metadata": {
    "collapsed": true
   },
   "outputs": [],
   "source": [
    "# new distance criterion in feet\n",
    "new_distance = 100"
   ]
  },
  {
   "cell_type": "markdown",
   "metadata": {},
   "source": [
    "## Pick-ups and Drop-offs, All Days of the Week, All Hours of the Day"
   ]
  },
  {
   "cell_type": "code",
   "execution_count": 10,
   "metadata": {
    "collapsed": false
   },
   "outputs": [],
   "source": [
    "# load up the workbook and worksheet for working with trips that have nearby pick-up locations\n",
    "nearby_pickups = pd.read_excel('../data/Nearby Pickups and Dropoffs.xlsx', sheetname='Nearby Pick-ups')\n",
    "\n",
    "nearby_pickup_coords = {}\n",
    "for hotel_name in nearby_pickups['Hotel Name'].unique():\n",
    "    # get the latitude, longitude coordinates of the corresponding pick-up locations for the trips\n",
    "    satisfying_locations = nearby_pickups.loc[nearby_pickups['Hotel Name'] == hotel_name].loc[nearby_pickups['Distance From Hotel'] <= new_distance]\n",
    "    nearby_pickup_coords[hotel_name] = np.array(zip(satisfying_locations['Latitude'], satisfying_locations['Longitude'])).T\n",
    "\n",
    "# delete the 'nearby_pickups' dataframe from memory\n",
    "del nearby_pickups"
   ]
  },
  {
   "cell_type": "code",
   "execution_count": 11,
   "metadata": {
    "collapsed": false
   },
   "outputs": [
    {
     "name": "stdout",
     "output_type": "stream",
     "text": [
      "Number of nearby pick-up taxicab trips (within 100 feet of hotel Waldorf Astoria New York): 1280\n",
      "Number of nearby pick-up taxicab trips (within 100 feet of hotel Wyndham New Yorker Hotel): 3038\n",
      "Number of nearby pick-up taxicab trips (within 100 feet of hotel The Roosevelt Hotel): 3464\n",
      "Number of nearby pick-up taxicab trips (within 100 feet of hotel Hilton Millenium Hotel): 1307\n",
      "Number of nearby pick-up taxicab trips (within 100 feet of hotel Marriott New York Marquis): 3007\n",
      "Number of nearby pick-up taxicab trips (within 100 feet of hotel Hotel Pennsylvania): 20678\n",
      "Number of nearby pick-up taxicab trips (within 100 feet of hotel Hilton New York Midtown): 1303\n",
      "Number of nearby pick-up taxicab trips (within 100 feet of hotel Marriott New York Downtown): 1231\n",
      "Number of nearby pick-up taxicab trips (within 100 feet of hotel Sheraton Hotel New York Times Square): 1198\n",
      "Number of nearby pick-up taxicab trips (within 100 feet of hotel Grand Hyatt New York): 2832\n"
     ]
    }
   ],
   "source": [
    "for hotel_name in nearby_pickup_coords:\n",
    "    print 'Number of nearby pick-up taxicab trips (within ' + str(new_distance) + ' feet of hotel ' + hotel_name + '): ' + str(len(nearby_pickup_coords[hotel_name][0]))"
   ]
  },
  {
   "cell_type": "code",
   "execution_count": 12,
   "metadata": {
    "collapsed": false
   },
   "outputs": [],
   "source": [
    "# load up the workbook and worksheet for working with trips that have nearby pick-up locations\n",
    "nearby_dropoffs = pd.read_excel('../data/Nearby Pickups and Dropoffs.xlsx', sheetname='Nearby Drop-offs')\n",
    "\n",
    "nearby_dropoff_coords = {}\n",
    "for hotel_name in nearby_dropoffs['Hotel Name'].unique():\n",
    "    # get the latitude, longitude coordinates of the corresponding pick-up locations for the trips\n",
    "    satisfying_locations = nearby_dropoffs.loc[nearby_dropoffs['Hotel Name'] == hotel_name].loc[nearby_dropoffs['Distance From Hotel'] <= new_distance]\n",
    "    nearby_dropoff_coords[hotel_name] = np.array(zip(satisfying_locations['Latitude'], satisfying_locations['Longitude'])).T\n",
    "\n",
    "# delete the 'nearby_pickups' dataframe from memory\n",
    "del nearby_dropoffs"
   ]
  },
  {
   "cell_type": "code",
   "execution_count": 13,
   "metadata": {
    "collapsed": false
   },
   "outputs": [
    {
     "name": "stdout",
     "output_type": "stream",
     "text": [
      "Number of nearby drop-off taxicab trips (within 100 feet of hotel Waldorf Astoria New York): 1271\n",
      "Number of nearby drop-off taxicab trips (within 100 feet of hotel Wyndham New Yorker Hotel): 1890\n",
      "Number of nearby drop-off taxicab trips (within 100 feet of hotel The Roosevelt Hotel): 2628\n",
      "Number of nearby drop-off taxicab trips (within 100 feet of hotel Hilton Millenium Hotel): 1023\n",
      "Number of nearby drop-off taxicab trips (within 100 feet of hotel Marriott New York Marquis): 2660\n",
      "Number of nearby drop-off taxicab trips (within 100 feet of hotel Hotel Pennsylvania): 12413\n",
      "Number of nearby drop-off taxicab trips (within 100 feet of hotel Hilton New York Midtown): 1511\n",
      "Number of nearby drop-off taxicab trips (within 100 feet of hotel Marriott New York Downtown): 1446\n",
      "Number of nearby drop-off taxicab trips (within 100 feet of hotel Sheraton Hotel New York Times Square): 1214\n",
      "Number of nearby drop-off taxicab trips (within 100 feet of hotel Grand Hyatt New York): 3111\n"
     ]
    }
   ],
   "source": [
    "for hotel_name in nearby_dropoff_coords:\n",
    "    print 'Number of nearby drop-off taxicab trips (within ' + str(new_distance) + ' feet of hotel ' + hotel_name + '): ' + str(len(nearby_dropoff_coords[hotel_name][0]))"
   ]
  },
  {
   "cell_type": "code",
   "execution_count": 20,
   "metadata": {
    "collapsed": true
   },
   "outputs": [],
   "source": [
    "coords_to_draw = nearby_pickup_coords.copy()\n",
    "coords_to_draw.update(nearby_dropoff_coords)\n",
    "\n",
    "for hotel_name in coords_to_draw:\n",
    "    # some map parameters\n",
    "    map_name = hotel_name + '_Jan2016_' + str(new_distance) + 'ft_pickups_dropoffs_heatmap.html'\n",
    "    filepath = '../img/' + map_name[:-5] + '.png'\n",
    "\n",
    "    gmap = gmplot.GoogleMapPlotter(np.mean(coords_to_draw[hotel_name][0]), np.mean(coords_to_draw[hotel_name][1]), 13)\n",
    "\n",
    "    # plot the map\n",
    "    gmap.heatmap(coords_to_draw[hotel_name][0], coords_to_draw[hotel_name][1], threshold=10, radius=25)\n",
    "\n",
    "    # draw the map\n",
    "    gmap.draw('../img/' + map_name)\n",
    "\n",
    "    # display it in the web browser\n",
    "    webbrowser.open('../img/' + map_name)\n",
    "    \n",
    "    break"
   ]
  },
  {
   "cell_type": "code",
   "execution_count": null,
   "metadata": {
    "collapsed": true
   },
   "outputs": [],
   "source": []
  }
 ],
 "metadata": {
  "anaconda-cloud": {},
  "kernelspec": {
   "display_name": "Python [conda env:py27]",
   "language": "python",
   "name": "conda-env-py27-py"
  },
  "language_info": {
   "codemirror_mode": {
    "name": "ipython",
    "version": 2
   },
   "file_extension": ".py",
   "mimetype": "text/x-python",
   "name": "python",
   "nbconvert_exporter": "python",
   "pygments_lexer": "ipython2",
   "version": "2.7.13"
  }
 },
 "nbformat": 4,
 "nbformat_minor": 1
}
