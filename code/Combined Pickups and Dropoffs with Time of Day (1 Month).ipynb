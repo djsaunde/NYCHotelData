{
 "cells": [
  {
   "cell_type": "markdown",
   "metadata": {
    "deletable": true,
    "editable": true
   },
   "source": [
    "# Combined Pickups and Dropoffs with Time of Day (1 Month)"
   ]
  },
  {
   "cell_type": "code",
   "execution_count": 91,
   "metadata": {
    "collapsed": false,
    "deletable": true,
    "editable": true
   },
   "outputs": [
    {
     "name": "stdout",
     "output_type": "stream",
     "text": [
      "The autoreload extension is already loaded. To reload it, use:\n",
      "  %reload_ext autoreload\n"
     ]
    }
   ],
   "source": [
    "# imports...\n",
    "import csv, imp, os, gmplot, webbrowser\n",
    "import numpy as np\n",
    "import pandas as pd\n",
    "import matplotlib.pyplot as plt\n",
    "\n",
    "from IPython.display import Image, display\n",
    "from IPython.core.display import HTML\n",
    "\n",
    "from datetime import datetime\n",
    "\n",
    "# importing helper methods\n",
    "from util import *\n",
    "\n",
    "# for auto-reloading external modules\n",
    "# see http://stackoverflow.com/questions/1907993/autoreload-of-modules-in-ipython\n",
    "%load_ext autoreload\n",
    "%autoreload 2\n",
    "\n",
    "# matplotlib setup\n",
    "%matplotlib inline\n",
    "plt.rcParams['figure.figsize'] = (10.0, 8.0) # set default size of plots\n",
    "plt.rcParams['image.interpolation'] = 'nearest'\n",
    "plt.rcParams['image.cmap'] = 'gray'"
   ]
  },
  {
   "cell_type": "code",
   "execution_count": 4,
   "metadata": {
    "collapsed": true,
    "deletable": true,
    "editable": true
   },
   "outputs": [],
   "source": [
    "# distance criterion in feet\n",
    "distance = 100"
   ]
  },
  {
   "cell_type": "markdown",
   "metadata": {
    "deletable": true,
    "editable": true
   },
   "source": [
    "## Pick-ups: Arbitrary Day of Week / Time of Day"
   ]
  },
  {
   "cell_type": "code",
   "execution_count": 126,
   "metadata": {
    "collapsed": false,
    "deletable": true,
    "editable": true
   },
   "outputs": [],
   "source": [
    "# load up the workbook and worksheet for working with trips that have nearby pick-up locations\n",
    "nearby_pickups = pd.read_excel('../data/Nearby Pickups and Dropoffs.xlsx', sheetname='Nearby Pick-ups')"
   ]
  },
  {
   "cell_type": "code",
   "execution_count": 130,
   "metadata": {
    "collapsed": false,
    "deletable": true,
    "editable": true
   },
   "outputs": [
    {
     "name": "stdout",
     "output_type": "stream",
     "text": [
      "Satisfying nearby pick-up taxicab rides (within 100 feet, using above time parameters)\n",
      "\n",
      "Total satisfying nearby pick-up taxicab rides: 39338 \n",
      "\n",
      "Satisfying nearby pick-up taxicab rides by hotel:\n",
      "- Waldorf Astoria New York : 1280 satisfying taxicab pick-ups\n",
      "- Wyndham New Yorker Hotel : 3038 satisfying taxicab pick-ups\n",
      "- The Roosevelt Hotel : 3464 satisfying taxicab pick-ups\n",
      "- Hilton Millenium Hotel : 1307 satisfying taxicab pick-ups\n",
      "- Marriott New York Marquis : 3007 satisfying taxicab pick-ups\n",
      "- Hotel Pennsylvania : 20678 satisfying taxicab pick-ups\n",
      "- Hilton New York Midtown : 1303 satisfying taxicab pick-ups\n",
      "- Marriott New York Downtown : 1231 satisfying taxicab pick-ups\n",
      "- Sheraton Hotel New York Times Square : 1198 satisfying taxicab pick-ups\n",
      "- Grand Hyatt New York : 2832 satisfying taxicab pick-ups\n"
     ]
    }
   ],
   "source": [
    "# set these parameters to determine which nearby-pickup taxicab rides to consider\n",
    "days = [0,1,2,3,4,5,6]\n",
    "start_hour = 0\n",
    "end_hour = 24\n",
    "\n",
    "# get coordinates of new distance and time-constraint satisfying taxicab trips with nearby pickups\n",
    "nearby_pickup_coords = pickups_arbitrary_times(nearby_pickups, distance, days, start_hour, end_hour)\n",
    "\n",
    "print 'Satisfying nearby pick-up taxicab rides (within', str(distance), 'feet, using above time parameters)\\n'\n",
    "print 'Total satisfying nearby pick-up taxicab rides:', sum([single_hotel_coords.shape[1] for single_hotel_coords in nearby_pickup_coords.values()]), '\\n'\n",
    "print 'Satisfying nearby pick-up taxicab rides by hotel:'\n",
    "\n",
    "for name in nearby_pickup_coords:\n",
    "    print '-', name, ':', nearby_pickup_coords[name].shape[1], 'satisfying taxicab pick-ups'"
   ]
  },
  {
   "cell_type": "markdown",
   "metadata": {
    "deletable": true,
    "editable": true
   },
   "source": [
    "## Drop-offs: Arbitrary Day of Week / Time of Day"
   ]
  },
  {
   "cell_type": "code",
   "execution_count": 128,
   "metadata": {
    "collapsed": true,
    "deletable": true,
    "editable": true
   },
   "outputs": [],
   "source": [
    "# load up the workbook and worksheet for working with trips that have nearby pick-up locations\n",
    "nearby_dropoffs = pd.read_excel('../data/Nearby Pickups and Dropoffs.xlsx', sheetname='Nearby Drop-offs')"
   ]
  },
  {
   "cell_type": "code",
   "execution_count": 129,
   "metadata": {
    "collapsed": false,
    "deletable": true,
    "editable": true
   },
   "outputs": [
    {
     "name": "stdout",
     "output_type": "stream",
     "text": [
      "Satisfying nearby drop-off taxicab rides (within 100 feet, using above time parameters)\n",
      "\n",
      "Total satisfying nearby drop-off taxicab rides: 29167 \n",
      "\n",
      "Satisfying nearby drop-off taxicab rides by hotel:\n",
      "- Waldorf Astoria New York : 1271 satisfying taxicab drop-offs\n",
      "- Wyndham New Yorker Hotel : 1890 satisfying taxicab drop-offs\n",
      "- The Roosevelt Hotel : 2628 satisfying taxicab drop-offs\n",
      "- Hilton Millenium Hotel : 1023 satisfying taxicab drop-offs\n",
      "- Marriott New York Marquis : 2660 satisfying taxicab drop-offs\n",
      "- Hotel Pennsylvania : 12413 satisfying taxicab drop-offs\n",
      "- Hilton New York Midtown : 1511 satisfying taxicab drop-offs\n",
      "- Marriott New York Downtown : 1446 satisfying taxicab drop-offs\n",
      "- Sheraton Hotel New York Times Square : 1214 satisfying taxicab drop-offs\n",
      "- Grand Hyatt New York : 3111 satisfying taxicab drop-offs\n"
     ]
    }
   ],
   "source": [
    "# set these parameters to determine which nearby-pickup taxicab rides to consider\n",
    "days = [0,1,2,3,4,5,6]\n",
    "start_hour = 0\n",
    "end_hour = 24\n",
    "\n",
    "# set these parameters to determine which nearby-pickup taxicab rides to consider\n",
    "nearby_dropoff_coords = dropoffs_arbitrary_times(nearby_dropoffs, distance, days, start_hour, end_hour)\n",
    "\n",
    "print 'Satisfying nearby drop-off taxicab rides (within', str(distance), 'feet, using above time parameters)\\n'\n",
    "print 'Total satisfying nearby drop-off taxicab rides:', sum([single_hotel_coords.shape[1] for single_hotel_coords in nearby_dropoff_coords.values()]), '\\n'\n",
    "print 'Satisfying nearby drop-off taxicab rides by hotel:'\n",
    "\n",
    "for name in nearby_dropoff_coords:\n",
    "    print '-', name, ':', nearby_dropoff_coords[name].shape[1], 'satisfying taxicab drop-offs'"
   ]
  },
  {
   "cell_type": "markdown",
   "metadata": {
    "deletable": true,
    "editable": true
   },
   "source": [
    "## Drawing Plots of Nearby Pickups"
   ]
  },
  {
   "cell_type": "code",
   "execution_count": 120,
   "metadata": {
    "collapsed": false,
    "deletable": true,
    "editable": true
   },
   "outputs": [],
   "source": [
    "for hotel_name in nearby_pickup_coords:\n",
    "    # some map parameters\n",
    "    map_name = hotel_name + '_Jan2016_' + str(distance) + 'ft_pickups_' + ','.join([ str(day) for day in days ]) + '_weekdays_' + str(start_hour) + '_' + str(end_hour) + '_start_end_hours_heatmap.html'\n",
    "    filepath = '../img/' + map_name[:-5] + '.png'\n",
    "\n",
    "    gmap = gmplot.GoogleMapPlotter(np.mean(nearby_pickup_coords[hotel_name][0]), np.mean(nearby_pickup_coords[hotel_name][1]), 13)\n",
    "\n",
    "    # plot the map\n",
    "    gmap.heatmap(nearby_pickup_coords[hotel_name][0], nearby_pickup_coords[hotel_name][1], threshold=10, radius=25)\n",
    "\n",
    "    # draw the map\n",
    "    gmap.draw('../img/' + map_name)\n",
    "\n",
    "    # display it in the web browser\n",
    "    webbrowser.open('../img/' + map_name)"
   ]
  },
  {
   "cell_type": "markdown",
   "metadata": {
    "collapsed": true,
    "deletable": true,
    "editable": true
   },
   "source": [
    "## Drawing Plots of Nearby Dropoffs"
   ]
  },
  {
   "cell_type": "code",
   "execution_count": 123,
   "metadata": {
    "collapsed": false,
    "deletable": true,
    "editable": true
   },
   "outputs": [],
   "source": [
    "for hotel_name in nearby_dropoff_coords:\n",
    "    # some map parameters\n",
    "    map_name = hotel_name + '_Jan2016_' + str(distance) + 'ft_dropoffs_' + ','.join([ str(day) for day in days ]) + '_weekdays_' + str(start_hour) + '_' + str(end_hour) + '_start_end_hours_heatmap.html'\n",
    "    filepath = '../img/' + map_name[:-5] + '.png'\n",
    "\n",
    "    gmap = gmplot.GoogleMapPlotter(np.mean(nearby_dropoff_coords[hotel_name][0]), np.mean(nearby_dropoff_coords[hotel_name][1]), 13)\n",
    "\n",
    "    # plot the map\n",
    "    gmap.heatmap(nearby_dropoff_coords[hotel_name][0], nearby_dropoff_coords[hotel_name][1], threshold=10, radius=25)\n",
    "\n",
    "    # draw the map\n",
    "    gmap.draw('../img/' + map_name)\n",
    "\n",
    "    # display it in the web browser\n",
    "    webbrowser.open('../img/' + map_name)"
   ]
  },
  {
   "cell_type": "markdown",
   "metadata": {
    "deletable": true,
    "editable": true
   },
   "source": [
    "## Drawing Plots of Both Nearby Pickups and Dropoffs"
   ]
  },
  {
   "cell_type": "code",
   "execution_count": 125,
   "metadata": {
    "collapsed": false,
    "deletable": true,
    "editable": true
   },
   "outputs": [],
   "source": [
    "coords_to_draw = nearby_pickup_coords.copy()\n",
    "coords_to_draw.update(nearby_dropoff_coords)\n",
    "\n",
    "for hotel_name in coords_to_draw:\n",
    "    # some map parameters\n",
    "    map_name = hotel_name + '_Jan2016_' + str(distance) + 'ft_pickups_dropoffs_' + ','.join([ str(day) for day in days ]) + '_weekdays_' + str(start_hour) + '_' + str(end_hour) + '_start_end_hours_heatmap.html'\n",
    "    filepath = '../img/' + map_name[:-5] + '.png'\n",
    "\n",
    "    gmap = gmplot.GoogleMapPlotter(np.mean(coords_to_draw[hotel_name][0]), np.mean(coords_to_draw[hotel_name][1]), 13)\n",
    "\n",
    "    # plot the map\n",
    "    gmap.heatmap(coords_to_draw[hotel_name][0], coords_to_draw[hotel_name][1], threshold=10, radius=25)\n",
    "\n",
    "    # draw the map\n",
    "    gmap.draw('../img/' + map_name)\n",
    "\n",
    "    # display it in the web browser\n",
    "    webbrowser.open('../img/' + map_name)"
   ]
  }
 ],
 "metadata": {
  "anaconda-cloud": {},
  "kernelspec": {
   "display_name": "Python [conda env:py27]",
   "language": "python",
   "name": "conda-env-py27-py"
  },
  "language_info": {
   "codemirror_mode": {
    "name": "ipython",
    "version": 2
   },
   "file_extension": ".py",
   "mimetype": "text/x-python",
   "name": "python",
   "nbconvert_exporter": "python",
   "pygments_lexer": "ipython2",
   "version": "2.7.13"
  }
 },
 "nbformat": 4,
 "nbformat_minor": 1
}
