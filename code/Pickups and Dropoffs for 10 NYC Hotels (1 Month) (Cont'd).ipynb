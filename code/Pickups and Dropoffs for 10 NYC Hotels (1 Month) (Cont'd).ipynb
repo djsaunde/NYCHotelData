{
 "cells": [
  {
   "cell_type": "markdown",
   "metadata": {},
   "source": [
    "# Pickups and Dropoffs for 10 NYC Hotels (1 Month) (Cont'd)\n",
    "\n",
    "I'll take the output from the first version of this notebook and use it to draw heat maps of both pickup and dropoff locations for the 10 hotels over the 1 month used in the pilots data."
   ]
  },
  {
   "cell_type": "code",
   "execution_count": 1,
   "metadata": {
    "collapsed": true
   },
   "outputs": [],
   "source": [
    "# imports...\n",
    "import csv, imp, os, numpy as np, pandas as pd, matplotlib.pyplot as plt\n",
    "import gmplot\n",
    "from IPython.display import Image, display\n",
    "from IPython.core.display import HTML\n",
    "import webbrowser\n",
    "\n",
    "# importing helper methods\n",
    "from util import *\n",
    "\n",
    "# for auto-reloading external modules\n",
    "# see http://stackoverflow.com/questions/1907993/autoreload-of-modules-in-ipython\n",
    "%load_ext autoreload\n",
    "%autoreload 2\n",
    "\n",
    "# matplotlib setup\n",
    "%matplotlib inline\n",
    "plt.rcParams['figure.figsize'] = (10.0, 8.0) # set default size of plots\n",
    "plt.rcParams['image.interpolation'] = 'nearest'\n",
    "plt.rcParams['image.cmap'] = 'gray'"
   ]
  },
  {
   "cell_type": "markdown",
   "metadata": {},
   "source": [
    "## Maps for Nearby Pick-ups\n",
    "\n",
    "### Importing Data\n",
    "\n",
    "Let's grab the (quite large) file \"Nearby Pickups and Dropoffs.xlsx\" and store the \"Nearby Pick-ups\" trips' drop off locations in main memory, from which we'll draw heat maps."
   ]
  },
  {
   "cell_type": "code",
   "execution_count": 2,
   "metadata": {
    "collapsed": false
   },
   "outputs": [
    {
     "name": "stdout",
     "output_type": "stream",
     "text": [
      "[u'Hilton Millenium Hotel' u'Marriott New York Downtown'\n",
      " u'Grand Hyatt New York' u'Waldorf Astoria New York' u'The Roosevelt Hotel'\n",
      " u'Hotel Pennsylvania' u'Wyndham New Yorker Hotel'\n",
      " u'Marriott New York Marquis' u'Hilton New York Midtown'\n",
      " u'Sheraton Hotel New York Times Square']\n"
     ]
    }
   ],
   "source": [
    "# load up the workbook and worksheet for working with trips that have nearby pick-up locations\n",
    "nearby_pickups = pd.read_excel('../data/Nearby Pickups and Dropoffs.xlsx', sheetname='Nearby Pick-ups')\n",
    "\n",
    "print nearby_pickups['Hotel Name'].unique()\n",
    "\n",
    "nearby_pickup_coords = {}\n",
    "for hotel_name in nearby_pickups['Hotel Name'].unique():\n",
    "    # get the latitude, longitude coordinates of the corresponding pick-up locations for the trips\n",
    "    nearby_pickup_coords[hotel_name] = np.array(zip(nearby_pickups.loc[nearby_pickups['Hotel Name'] == hotel_name]['Latitude'], nearby_pickups.loc[nearby_pickups['Hotel Name'] == hotel_name]['Longitude'])).T\n",
    "\n",
    "# delete the 'nearby_pickups' dataframe from memory\n",
    "del nearby_pickups"
   ]
  },
  {
   "cell_type": "code",
   "execution_count": 3,
   "metadata": {
    "collapsed": false
   },
   "outputs": [
    {
     "name": "stdout",
     "output_type": "stream",
     "text": [
      "Number of nearby pick-up taxicab trips (within 300 feet of hotel Waldorf Astoria New York): 23923\n",
      "Number of nearby pick-up taxicab trips (within 300 feet of hotel Wyndham New Yorker Hotel): 21492\n",
      "Number of nearby pick-up taxicab trips (within 300 feet of hotel The Roosevelt Hotel): 18850\n",
      "Number of nearby pick-up taxicab trips (within 300 feet of hotel Hilton Millenium Hotel): 7817\n",
      "Number of nearby pick-up taxicab trips (within 300 feet of hotel Marriott New York Marquis): 23474\n",
      "Number of nearby pick-up taxicab trips (within 300 feet of hotel Hotel Pennsylvania): 112036\n",
      "Number of nearby pick-up taxicab trips (within 300 feet of hotel Hilton New York Midtown): 26898\n",
      "Number of nearby pick-up taxicab trips (within 300 feet of hotel Marriott New York Downtown): 7573\n",
      "Number of nearby pick-up taxicab trips (within 300 feet of hotel Sheraton Hotel New York Times Square): 19863\n",
      "Number of nearby pick-up taxicab trips (within 300 feet of hotel Grand Hyatt New York): 36840\n"
     ]
    }
   ],
   "source": [
    "for hotel_name in nearby_pickup_coords:\n",
    "    print 'Number of nearby pick-up taxicab trips (within 300 feet of hotel ' + hotel_name + '): ' + str(len(nearby_pickup_coords[hotel_name][0]))"
   ]
  },
  {
   "cell_type": "markdown",
   "metadata": {},
   "source": [
    "### Drawing Maps of Corresponding Drop-off Locations\n",
    "\n",
    "Let's use the Google Maps plotting Python package (gmplot)[https://pypi.python.org/pypi/gmplot/1.0.5] to overlay a heatmap over a map of NYC (as in (NYC Taxicab Data Experiment)[https://github.com/djsaunde/NYCHotelData/blob/master/code/NYC%20Taxicab%20Data%20Experiment.ipynb])."
   ]
  },
  {
   "cell_type": "code",
   "execution_count": 5,
   "metadata": {
    "collapsed": false
   },
   "outputs": [],
   "source": [
    "for hotel_name in nearby_pickup_coords:\n",
    "    # some heat map parameters\n",
    "    map_name = hotel_name + '_Jan2016_300ft_nearby_pickups_destinations_markers.html'\n",
    "    filepath = '../img/' + map_name[:-5] + '.png'\n",
    "\n",
    "    gmap = gmplot.GoogleMapPlotter(np.mean(nearby_pickup_coords[hotel_name][0]), np.mean(nearby_pickup_coords[hotel_name][1]), 13)\n",
    "\n",
    "    # plot the map\n",
    "    gmap.scatter(nearby_pickup_coords[hotel_name][0], nearby_pickup_coords[hotel_name][1])\n",
    "\n",
    "    # draw the map\n",
    "    gmap.draw('../img/' + map_name)\n",
    "\n",
    "    # display it in the web browser\n",
    "    webbrowser.open('../img/' + map_name)"
   ]
  },
  {
   "cell_type": "markdown",
   "metadata": {},
   "source": [
    "## Heat Maps for Nearby Drop-offs\n",
    "\n",
    "### Importing Data\n",
    "\n",
    "Let's do the same as above, but with the \"Nearby Drop-offs\" sheet."
   ]
  },
  {
   "cell_type": "code",
   "execution_count": 30,
   "metadata": {
    "collapsed": false
   },
   "outputs": [],
   "source": [
    "# load up the workbook and worksheet for working with trips that have nearby drop-off locations\n",
    "nearby_dropoffs = pd.read_excel('../data/Nearby Pickups and Dropoffs.xlsx', sheetname='Nearby Drop-offs')\n",
    "\n",
    "# get the latitude, longitude coordinates of the corresponding pick-up locations for the trips\n",
    "nearby_dropoff_coords.append(np.array(zip(nearby_dropoffs['Latitude'], nearby_dropoffs['Longitude'])).T)\n",
    "\n",
    "# delete the 'nearby_dropoffs' dataframe from memory\n",
    "del nearby_dropoffs"
   ]
  },
  {
   "cell_type": "code",
   "execution_count": 46,
   "metadata": {
    "collapsed": false
   },
   "outputs": [
    {
     "name": "stdout",
     "output_type": "stream",
     "text": [
      "Number of nearby drop-off taxicab trips (within 300 feet of hotel): 267835\n"
     ]
    }
   ],
   "source": [
    "print 'Number of nearby drop-off taxicab trips (within 300 feet of hotel):', len(nearby_dropoff_coords[0])"
   ]
  },
  {
   "cell_type": "markdown",
   "metadata": {},
   "source": [
    "### Drawing the Heat Map of Corresponding Pick-up Locations\n",
    "\n",
    "Same as above, but for corresponding pick-ups locations."
   ]
  },
  {
   "cell_type": "code",
   "execution_count": 37,
   "metadata": {
    "collapsed": false
   },
   "outputs": [
    {
     "data": {
      "text/plain": [
       "True"
      ]
     },
     "execution_count": 37,
     "metadata": {},
     "output_type": "execute_result"
    }
   ],
   "source": [
    "# some heat map parameters\n",
    "map_name = '10Hotels_Jan2016_300ft_nearby_dropoff_starting_points_heatmap.html'\n",
    "filepath = '../img/' + map_name[:-5] + '.png'\n",
    "\n",
    "gmap = gmplot.GoogleMapPlotter(np.mean(nearby_dropoff_coords[0]), np.mean(nearby_dropoff_coords[1]), 13)\n",
    "\n",
    "# plot the heat map\n",
    "gmap.heatmap(nearby_dropoff_coords[0], nearby_dropoff_coords[1], radius=50, opacity=0.9)\n",
    "\n",
    "# draw the heat map\n",
    "gmap.draw('../img/' + map_name)\n",
    "\n",
    "# display it in the web browser\n",
    "webbrowser.open('../img/' + map_name)"
   ]
  },
  {
   "cell_type": "markdown",
   "metadata": {},
   "source": [
    "# Reducing Distance Away from Hotel\n",
    "\n",
    "The heat map so far assigns very low density to most points on the map of NYC. My intuition is that the radius about the hotel for which we deem rides to be \"close\" (in the sense that we count them as starting (ending) from (at) the hotel) is too large. So, a reduction of the radius should make the heat map more clear."
   ]
  },
  {
   "cell_type": "code",
   "execution_count": 13,
   "metadata": {
    "collapsed": true
   },
   "outputs": [],
   "source": [
    "# new distance criterion in feet\n",
    "new_distance = 100"
   ]
  },
  {
   "cell_type": "markdown",
   "metadata": {},
   "source": [
    "## Reducing Distance for Maps for Nearby Pick-ups\n",
    "\n",
    "### Importing Data\n",
    "\n",
    "As above, but throwing away trips with distance values greater than the above defined parameter 'new_distance'."
   ]
  },
  {
   "cell_type": "code",
   "execution_count": 14,
   "metadata": {
    "collapsed": false
   },
   "outputs": [],
   "source": [
    "# load up the workbook and worksheet for working with trips that have nearby pick-up locations\n",
    "nearby_pickups = pd.read_excel('../data/Nearby Pickups and Dropoffs.xlsx', sheetname='Nearby Pick-ups')\n",
    "\n",
    "nearby_pickup_coords = {}\n",
    "for hotel_name in nearby_pickups['Hotel Name'].unique():\n",
    "    # get the latitude, longitude coordinates of the corresponding pick-up locations for the trips\n",
    "    satisfying_locations = nearby_pickups.loc[nearby_pickups['Hotel Name'] == hotel_name].loc[nearby_pickups['Distance From Hotel'] <= new_distance]\n",
    "    nearby_pickup_coords[hotel_name] = np.array(zip(satisfying_locations['Latitude'], satisfying_locations['Longitude'])).T\n",
    "\n",
    "# delete the 'nearby_pickups' dataframe from memory\n",
    "del nearby_pickups"
   ]
  },
  {
   "cell_type": "code",
   "execution_count": 15,
   "metadata": {
    "collapsed": false
   },
   "outputs": [
    {
     "name": "stdout",
     "output_type": "stream",
     "text": [
      "Number of nearby pick-up taxicab trips (within 100 feet of hotel Waldorf Astoria New York): 1280\n",
      "Number of nearby pick-up taxicab trips (within 100 feet of hotel Wyndham New Yorker Hotel): 3038\n",
      "Number of nearby pick-up taxicab trips (within 100 feet of hotel The Roosevelt Hotel): 3464\n",
      "Number of nearby pick-up taxicab trips (within 100 feet of hotel Hilton Millenium Hotel): 1307\n",
      "Number of nearby pick-up taxicab trips (within 100 feet of hotel Marriott New York Marquis): 3007\n",
      "Number of nearby pick-up taxicab trips (within 100 feet of hotel Hotel Pennsylvania): 20678\n",
      "Number of nearby pick-up taxicab trips (within 100 feet of hotel Hilton New York Midtown): 1303\n",
      "Number of nearby pick-up taxicab trips (within 100 feet of hotel Marriott New York Downtown): 1231\n",
      "Number of nearby pick-up taxicab trips (within 100 feet of hotel Sheraton Hotel New York Times Square): 1198\n",
      "Number of nearby pick-up taxicab trips (within 100 feet of hotel Grand Hyatt New York): 2832\n"
     ]
    }
   ],
   "source": [
    "for hotel_name in nearby_pickup_coords:\n",
    "    print 'Number of nearby pick-up taxicab trips (within ' + str(new_distance) + ' feet of hotel ' + hotel_name + '): ' + str(len(nearby_pickup_coords[hotel_name][0]))"
   ]
  },
  {
   "cell_type": "markdown",
   "metadata": {},
   "source": [
    "### Drawing Maps of Corresponding Drop-off Locations (Reduced Distance)"
   ]
  },
  {
   "cell_type": "code",
   "execution_count": 16,
   "metadata": {
    "collapsed": false
   },
   "outputs": [],
   "source": [
    "for hotel_name in nearby_pickup_coords:\n",
    "    # some map parameters\n",
    "    map_name = hotel_name + '_Jan2016_' + str(new_distance) + 'ft_nearby_pickups_destinations_markers.html'\n",
    "    filepath = '../img/' + map_name[:-5] + '.png'\n",
    "\n",
    "    gmap = gmplot.GoogleMapPlotter(np.mean(nearby_pickup_coords[hotel_name][0]), np.mean(nearby_pickup_coords[hotel_name][1]), 13)\n",
    "\n",
    "    # plot the map\n",
    "    gmap.scatter(nearby_pickup_coords[hotel_name][0], nearby_pickup_coords[hotel_name][1], color='aquamarine')\n",
    "\n",
    "    # draw the map\n",
    "    gmap.draw('../img/' + map_name)\n",
    "\n",
    "    # display it in the web browser\n",
    "    webbrowser.open('../img/' + map_name)"
   ]
  },
  {
   "cell_type": "markdown",
   "metadata": {},
   "source": [
    "## Reducing Distance for Heat Maps for Nearby Drop-offs\n",
    "\n",
    "### Importing Data"
   ]
  },
  {
   "cell_type": "code",
   "execution_count": 17,
   "metadata": {
    "collapsed": true
   },
   "outputs": [],
   "source": [
    "# load up the workbook and worksheet for working with trips that have nearby pick-up locations\n",
    "nearby_dropoffs = pd.read_excel('../data/Nearby Pickups and Dropoffs.xlsx', sheetname='Nearby Drop-offs')\n",
    "\n",
    "nearby_dropoff_coords = {}\n",
    "for hotel_name in nearby_dropoffs['Hotel Name'].unique():\n",
    "    # get the latitude, longitude coordinates of the corresponding pick-up locations for the trips\n",
    "    satisfying_locations = nearby_dropoffs.loc[nearby_dropoffs['Hotel Name'] == hotel_name].loc[nearby_dropoffs['Distance From Hotel'] <= new_distance]\n",
    "    nearby_dropoff_coords[hotel_name] = np.array(zip(satisfying_locations['Latitude'], satisfying_locations['Longitude'])).T\n",
    "\n",
    "# delete the 'nearby_pickups' dataframe from memory\n",
    "del nearby_dropoffs"
   ]
  },
  {
   "cell_type": "code",
   "execution_count": 18,
   "metadata": {
    "collapsed": false
   },
   "outputs": [
    {
     "name": "stdout",
     "output_type": "stream",
     "text": [
      "Number of nearby drop-off taxicab trips (within 100 feet of hotel Waldorf Astoria New York): 1271\n",
      "Number of nearby drop-off taxicab trips (within 100 feet of hotel Wyndham New Yorker Hotel): 1890\n",
      "Number of nearby drop-off taxicab trips (within 100 feet of hotel The Roosevelt Hotel): 2628\n",
      "Number of nearby drop-off taxicab trips (within 100 feet of hotel Hilton Millenium Hotel): 1023\n",
      "Number of nearby drop-off taxicab trips (within 100 feet of hotel Marriott New York Marquis): 2660\n",
      "Number of nearby drop-off taxicab trips (within 100 feet of hotel Hotel Pennsylvania): 12413\n",
      "Number of nearby drop-off taxicab trips (within 100 feet of hotel Hilton New York Midtown): 1511\n",
      "Number of nearby drop-off taxicab trips (within 100 feet of hotel Marriott New York Downtown): 1446\n",
      "Number of nearby drop-off taxicab trips (within 100 feet of hotel Sheraton Hotel New York Times Square): 1214\n",
      "Number of nearby drop-off taxicab trips (within 100 feet of hotel Grand Hyatt New York): 3111\n"
     ]
    }
   ],
   "source": [
    "for hotel_name in nearby_dropoff_coords:\n",
    "    print 'Number of nearby drop-off taxicab trips (within ' + str(new_distance) + ' feet of hotel ' + hotel_name + '): ' + str(len(nearby_dropoff_coords[hotel_name][0]))"
   ]
  },
  {
   "cell_type": "markdown",
   "metadata": {},
   "source": [
    "### Drawing Heat Map of Corresponding Pick-up Locations (Reduced Distance)"
   ]
  },
  {
   "cell_type": "code",
   "execution_count": 19,
   "metadata": {
    "collapsed": false
   },
   "outputs": [],
   "source": [
    "for hotel_name in nearby_dropoff_coords:\n",
    "    # some map parameters\n",
    "    map_name = hotel_name + '_Jan2016_' + str(new_distance) + 'ft_nearby_dropoffs_starting_points_markers.html'\n",
    "    filepath = '../img/' + map_name[:-5] + '.png'\n",
    "\n",
    "    gmap = gmplot.GoogleMapPlotter(np.mean(nearby_dropoff_coords[hotel_name][0]), np.mean(nearby_dropoff_coords[hotel_name][1]), 13)\n",
    "\n",
    "    # plot the map\n",
    "    gmap.scatter(nearby_dropoff_coords[hotel_name][0], nearby_dropoff_coords[hotel_name][1], color='aquamarine')\n",
    "\n",
    "    # draw the map\n",
    "    gmap.draw('../img/' + map_name)\n",
    "\n",
    "    # display it in the web browser\n",
    "    webbrowser.open('../img/' + map_name)"
   ]
  }
 ],
 "metadata": {
  "anaconda-cloud": {},
  "kernelspec": {
   "display_name": "Python [conda env:py27]",
   "language": "python",
   "name": "conda-env-py27-py"
  },
  "language_info": {
   "codemirror_mode": {
    "name": "ipython",
    "version": 2
   },
   "file_extension": ".py",
   "mimetype": "text/x-python",
   "name": "python",
   "nbconvert_exporter": "python",
   "pygments_lexer": "ipython2",
   "version": "2.7.13"
  }
 },
 "nbformat": 4,
 "nbformat_minor": 1
}
