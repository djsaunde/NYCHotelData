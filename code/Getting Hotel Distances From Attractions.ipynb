{
 "cells": [
  {
   "cell_type": "markdown",
   "metadata": {},
   "source": [
    "# Getting Hotel Distances From Attractions\n",
    "\n",
    "We want to retrieve the distances, in miles (\"as the crow flies\") from the hotels listed in the Excel file \"Manhattan_selected_to_STR\" from the four attractions used by the data distributors. From here, we'll use those distances to pair hotel IDs to the hotels themselves."
   ]
  },
  {
   "cell_type": "code",
   "execution_count": 40,
   "metadata": {
    "collapsed": false
   },
   "outputs": [
    {
     "name": "stdout",
     "output_type": "stream",
     "text": [
      "The autoreload extension is already loaded. To reload it, use:\n",
      "  %reload_ext autoreload\n"
     ]
    }
   ],
   "source": [
    "# imports...\n",
    "import pandas, numpy as np, math\n",
    "from geopy import GoogleV3\n",
    "from geopy.distance import vincenty\n",
    "\n",
    "# importing helper methods\n",
    "from util import *\n",
    "\n",
    "# for auto-reloading external modules\n",
    "# see http://stackoverflow.com/questions/1907993/autoreload-of-modules-in-ipython\n",
    "%load_ext autoreload\n",
    "%autoreload 2"
   ]
  },
  {
   "cell_type": "markdown",
   "metadata": {},
   "source": [
    "## Loading Data\n",
    "\n",
    "We load up the Excel file contains hotels and information relevant to them. We remove columns we don't need, and condense all address information into one line."
   ]
  },
  {
   "cell_type": "code",
   "execution_count": 41,
   "metadata": {
    "collapsed": false
   },
   "outputs": [],
   "source": [
    "# loading data\n",
    "hotels_info = pandas.read_excel('Manhattan_selected_to_STR.xls')\n",
    "\n",
    "# removing unnecessary columns and condensing into (Name, Address) only\n",
    "hotels_info = hotels_info[['Name', 'Address', 'City', 'ST', 'Zip']]\n",
    "hotels_info['Address'] = hotels_info['Address'] + ' ' + hotels_info['City'] + ' ' + hotels_info['ST'] + ' ' + hotels_info['Zip']\n",
    "hotels_info = hotels_info.drop('City', axis=1).drop('ST', axis=1).drop('Zip', axis=1)"
   ]
  },
  {
   "cell_type": "markdown",
   "metadata": {},
   "source": [
    "## Calculating Distances From Attractions\n",
    "\n",
    "The goal of the code that follows is to create a new spreadsheet containing (Name, Address, Distance 1, Distance 2, Distance 3, Distance 4) columns, where Dist _i_ corresponds to the distance from the _i_ th attraction"
   ]
  },
  {
   "cell_type": "code",
   "execution_count": 42,
   "metadata": {
    "collapsed": false
   },
   "outputs": [
    {
     "ename": "GeocoderServiceError",
     "evalue": "<urlopen error [Errno -3] Temporary failure in name resolution>",
     "output_type": "error",
     "traceback": [
      "\u001b[0;31m---------------------------------------------------------------------------\u001b[0m",
      "\u001b[0;31mGeocoderServiceError\u001b[0m                      Traceback (most recent call last)",
      "\u001b[0;32m<ipython-input-42-a787b7ce1cb7>\u001b[0m in \u001b[0;36m<module>\u001b[0;34m()\u001b[0m\n\u001b[1;32m      9\u001b[0m \u001b[0;34m\u001b[0m\u001b[0m\n\u001b[1;32m     10\u001b[0m \u001b[0;31m# getting locations of attractions\u001b[0m\u001b[0;34m\u001b[0m\u001b[0;34m\u001b[0m\u001b[0m\n\u001b[0;32m---> 11\u001b[0;31m \u001b[0mloc1\u001b[0m\u001b[0;34m,\u001b[0m \u001b[0mloc2\u001b[0m\u001b[0;34m,\u001b[0m \u001b[0mloc3\u001b[0m\u001b[0;34m,\u001b[0m \u001b[0mloc4\u001b[0m \u001b[0;34m=\u001b[0m \u001b[0mgeolocator\u001b[0m\u001b[0;34m.\u001b[0m\u001b[0mgeocode\u001b[0m\u001b[0;34m(\u001b[0m\u001b[0mattr1\u001b[0m\u001b[0;34m)\u001b[0m\u001b[0;34m,\u001b[0m \u001b[0mgeolocator\u001b[0m\u001b[0;34m.\u001b[0m\u001b[0mgeocode\u001b[0m\u001b[0;34m(\u001b[0m\u001b[0mattr2\u001b[0m\u001b[0;34m)\u001b[0m\u001b[0;34m,\u001b[0m \u001b[0mgeolocator\u001b[0m\u001b[0;34m.\u001b[0m\u001b[0mgeocode\u001b[0m\u001b[0;34m(\u001b[0m\u001b[0mattr3\u001b[0m\u001b[0;34m)\u001b[0m\u001b[0;34m,\u001b[0m \u001b[0mgeolocator\u001b[0m\u001b[0;34m.\u001b[0m\u001b[0mgeocode\u001b[0m\u001b[0;34m(\u001b[0m\u001b[0mattr4\u001b[0m\u001b[0;34m)\u001b[0m\u001b[0;34m\u001b[0m\u001b[0m\n\u001b[0m\u001b[1;32m     12\u001b[0m \u001b[0;34m\u001b[0m\u001b[0m\n\u001b[1;32m     13\u001b[0m \u001b[0;31m# storing the latitude and longitude of each attraction\u001b[0m\u001b[0;34m\u001b[0m\u001b[0;34m\u001b[0m\u001b[0m\n",
      "\u001b[0;32m/usr/local/lib/python2.7/dist-packages/geopy/geocoders/googlev3.pyc\u001b[0m in \u001b[0;36mgeocode\u001b[0;34m(self, query, exactly_one, timeout, bounds, region, components, language, sensor)\u001b[0m\n\u001b[1;32m    215\u001b[0m         \u001b[0mlogger\u001b[0m\u001b[0;34m.\u001b[0m\u001b[0mdebug\u001b[0m\u001b[0;34m(\u001b[0m\u001b[0;34m\"%s.geocode: %s\"\u001b[0m\u001b[0;34m,\u001b[0m \u001b[0mself\u001b[0m\u001b[0;34m.\u001b[0m\u001b[0m__class__\u001b[0m\u001b[0;34m.\u001b[0m\u001b[0m__name__\u001b[0m\u001b[0;34m,\u001b[0m \u001b[0murl\u001b[0m\u001b[0;34m)\u001b[0m\u001b[0;34m\u001b[0m\u001b[0m\n\u001b[1;32m    216\u001b[0m         return self._parse_json(\n\u001b[0;32m--> 217\u001b[0;31m             \u001b[0mself\u001b[0m\u001b[0;34m.\u001b[0m\u001b[0m_call_geocoder\u001b[0m\u001b[0;34m(\u001b[0m\u001b[0murl\u001b[0m\u001b[0;34m,\u001b[0m \u001b[0mtimeout\u001b[0m\u001b[0;34m=\u001b[0m\u001b[0mtimeout\u001b[0m\u001b[0;34m)\u001b[0m\u001b[0;34m,\u001b[0m \u001b[0mexactly_one\u001b[0m\u001b[0;34m\u001b[0m\u001b[0m\n\u001b[0m\u001b[1;32m    218\u001b[0m         )\n\u001b[1;32m    219\u001b[0m \u001b[0;34m\u001b[0m\u001b[0m\n",
      "\u001b[0;32m/usr/local/lib/python2.7/dist-packages/geopy/geocoders/base.pyc\u001b[0m in \u001b[0;36m_call_geocoder\u001b[0;34m(self, url, timeout, raw, requester, deserializer, **kwargs)\u001b[0m\n\u001b[1;32m    169\u001b[0m                 \u001b[0;32mif\u001b[0m \u001b[0;34m\"timed out\"\u001b[0m \u001b[0;32min\u001b[0m \u001b[0mmessage\u001b[0m\u001b[0;34m:\u001b[0m\u001b[0;34m\u001b[0m\u001b[0m\n\u001b[1;32m    170\u001b[0m                     \u001b[0;32mraise\u001b[0m \u001b[0mGeocoderTimedOut\u001b[0m\u001b[0;34m(\u001b[0m\u001b[0;34m'Service timed out'\u001b[0m\u001b[0;34m)\u001b[0m\u001b[0;34m\u001b[0m\u001b[0m\n\u001b[0;32m--> 171\u001b[0;31m             \u001b[0;32mraise\u001b[0m \u001b[0mGeocoderServiceError\u001b[0m\u001b[0;34m(\u001b[0m\u001b[0mmessage\u001b[0m\u001b[0;34m)\u001b[0m\u001b[0;34m\u001b[0m\u001b[0m\n\u001b[0m\u001b[1;32m    172\u001b[0m \u001b[0;34m\u001b[0m\u001b[0m\n\u001b[1;32m    173\u001b[0m         \u001b[0;32mif\u001b[0m \u001b[0mhasattr\u001b[0m\u001b[0;34m(\u001b[0m\u001b[0mpage\u001b[0m\u001b[0;34m,\u001b[0m \u001b[0;34m'getcode'\u001b[0m\u001b[0;34m)\u001b[0m\u001b[0;34m:\u001b[0m\u001b[0;34m\u001b[0m\u001b[0m\n",
      "\u001b[0;31mGeocoderServiceError\u001b[0m: <urlopen error [Errno -3] Temporary failure in name resolution>"
     ]
    }
   ],
   "source": [
    "# creating geocoder object\n",
    "geolocator = GoogleV3()\n",
    "\n",
    "# specifying attraction addresses\n",
    "attr1 = '1681 Broadway, New York, NY 10019' # Broadway Theatre\n",
    "attr2 = '1000 5th Ave, New York, NY 10028' # The Metropolitan Museum of Art\n",
    "attr3 = '350 5th Ave, New York, NY 10118' # Empire State Building\n",
    "attr4 = '285 Fulton St, New York, NY 10007' # One World Trade Center\n",
    "\n",
    "# getting locations of attractions\n",
    "loc1, loc2, loc3, loc4 = geolocator.geocode(attr1), geolocator.geocode(attr2), geolocator.geocode(attr3), geolocator.geocode(attr4)\n",
    "\n",
    "# storing the latitude and longitude of each attraction\n",
    "attr_coords = [ (loc1.latitude, loc1.longitude), (loc2.latitude, loc2.longitude), (loc3.latitude, loc3.longitude), (loc4.latitude, loc4.longitude) ]\n",
    "\n",
    "# create columns in 'hotels_info' dataframe for distances (in miles) to attractions from hotels\n",
    "sLength = len(hotels_info['Name'])\n",
    "hotels_info['Broadway Theatre Distance'] = pandas.Series(np.random.randn(sLength), index=hotels_info.index)\n",
    "hotels_info['Metropolitan Museum of Art Distance'] = pandas.Series(np.random.randn(sLength), index=hotels_info.index)\n",
    "hotels_info['Empire State Building Distance'] = pandas.Series(np.random.randn(sLength), index=hotels_info.index)\n",
    "hotels_info['One World Trade Center Distance'] = paandas.Series(np.random.randn(sLength), index=hotels_info.index)\n",
    "\n",
    "# loop through the Addresses column, get coordinates, and calculate distance in miles from each attraction\n",
    "for idx, address in enumerate(hotels_info['Address']):\n",
    "    # getting location and then coordinates from it\n",
    "    hotel_location = geolocator.geocode(address)\n",
    "    hotel_coords = hotel_location.latitude, hotel_location.longitude\n",
    "    \n",
    "    # calculate distances in miles from each attraction and store it in its corresponding column\n",
    "    hotels_info['Broadway Theatre Distance'][idx] = vincenty(hotel_coords, attr_coords[0])\n",
    "    hotels_info['Metropolitan Museum of Art Distance'][idx] = vincenty(hotel_coords, attr_coords[1])\n",
    "    hotels_info['Empire State Building Distance'][idx] = vincenty(hotel_coords, attr_coords[2])\n",
    "    hotels_info['One World Trade Center Distance'][idx] = vincenty(hotel_coords, attr_coords[3])\n",
    "\n",
    "# save out (Name, Address, Distances x 4) dataframe to Excel file\n",
    "writer = pandas.ExcelWriter('Hotel_Names_Addresses_Distances.xlsx')\n",
    "hotels_info.to_excel(writer, 'Names, Addresses, and Attraction Distances')"
   ]
  },
  {
   "cell_type": "code",
   "execution_count": null,
   "metadata": {
    "collapsed": true
   },
   "outputs": [],
   "source": []
  }
 ],
 "metadata": {
  "kernelspec": {
   "display_name": "Python 2",
   "language": "python",
   "name": "python2"
  },
  "language_info": {
   "codemirror_mode": {
    "name": "ipython",
    "version": 2
   },
   "file_extension": ".py",
   "mimetype": "text/x-python",
   "name": "python",
   "nbconvert_exporter": "python",
   "pygments_lexer": "ipython2",
   "version": "2.7.9"
  }
 },
 "nbformat": 4,
 "nbformat_minor": 1
}
