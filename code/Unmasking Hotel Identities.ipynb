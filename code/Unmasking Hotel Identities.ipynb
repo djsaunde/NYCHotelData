{
 "cells": [
  {
   "cell_type": "markdown",
   "metadata": {},
   "source": [
    "# Unmasking Hotel Identities\n",
    "\n",
    "In which we try to match hotel IDs to the actual hotel in NYC, given distances from four different attractions."
   ]
  },
  {
   "cell_type": "code",
   "execution_count": 4,
   "metadata": {
    "collapsed": false
   },
   "outputs": [
    {
     "name": "stdout",
     "output_type": "stream",
     "text": [
      "The autoreload extension is already loaded. To reload it, use:\n",
      "  %reload_ext autoreload\n"
     ]
    }
   ],
   "source": [
    "# imports...\n",
    "import pandas, numpy as np, warnings\n",
    "from geopy.geocoders import GoogleV3\n",
    "\n",
    "# importing helper methods\n",
    "from util import *\n",
    "\n",
    "# for auto-reloading external modules\n",
    "# see http://stackoverflow.com/questions/1907993/autoreload-of-modules-in-ipython\n",
    "%load_ext autoreload\n",
    "%autoreload 2\n",
    "\n",
    "# suppressing all warnings (probably bad practice!)\n",
    "warnings.filterwarnings('ignore')"
   ]
  },
  {
   "cell_type": "markdown",
   "metadata": {},
   "source": [
    "## Mapping Hotel IDs to Addresses or Name of Hotel"
   ]
  },
  {
   "cell_type": "code",
   "execution_count": 6,
   "metadata": {
    "collapsed": false
   },
   "outputs": [
    {
     "name": "stdout",
     "output_type": "stream",
     "text": [
      "... loading PropertyInfoFile workbook\n",
      "... loading hotel names, addresses, and distances workbook\n",
      "... finding best distance matches per hotel\n",
      "\n",
      "Progress: 0 / 178\n",
      "Progress: 10 / 178\n",
      "Progress: 20 / 178\n",
      "Progress: 30 / 178\n",
      "Progress: 40 / 178\n",
      "Progress: 50 / 178\n",
      "Progress: 60 / 178\n",
      "Progress: 70 / 178\n",
      "Progress: 80 / 178\n",
      "Progress: 90 / 178\n",
      "Progress: 100 / 178\n",
      "Progress: 110 / 178\n",
      "Progress: 120 / 178\n",
      "Progress: 130 / 178\n",
      "Progress: 140 / 178\n",
      "Progress: 150 / 178\n",
      "Progress: 160 / 178\n",
      "Progress: 170 / 178\n",
      "Progress: 178 / 178\n"
     ]
    }
   ],
   "source": [
    "print '... loading PropertyInfoFile workbook'\n",
    "\n",
    "# load up the (ID, distances) worksheet\n",
    "id_dist = pandas.read_excel('../data/PropertyInfoFile-to-Dan.xlsx')\n",
    "\n",
    "print '... loading hotel names, addresses, and distances workbook'\n",
    "\n",
    "# load up the (name, address, distances) worksheet\n",
    "name_addr_dist = pandas.read_excel('../data/Hotel_Names_Addresses_Distances.xlsx')\n",
    "\n",
    "# create new dataframe for (name, address, ID) entries\n",
    "sLength = len(name_addr_dist['Name'])\n",
    "name_addr_ID = name_addr_dist.copy()\n",
    "\n",
    "# drop useless columns\n",
    "name_addr_ID = name_addr_ID.drop('Broadway Theatre Distance', axis=1)\n",
    "name_addr_ID = name_addr_ID.drop('Metropolitan Museum of Art Distance', axis=1)\n",
    "name_addr_ID = name_addr_ID.drop('Empire State Building Distance', axis=1)\n",
    "name_addr_ID = name_addr_ID.drop('One World Trade Center Distance', axis=1)\n",
    "\n",
    "# create new column for ID matching\n",
    "name_addr_ID.loc[:, 'Share ID'] = pandas.Series(np.zeros(sLength), index=name_addr_dist.index)\n",
    "\n",
    "print '... finding best distance matches per hotel\\n'\n",
    "\n",
    "# loop through every row in the (ID, distances) worksheet\n",
    "for idx, id_dist_row in id_dist.iterrows():\n",
    "    # print progress to console\n",
    "    if idx % 10 == 0:\n",
    "        print 'Progress:', idx, '/', len(id_dist['Share ID'])\n",
    "    \n",
    "    # keep track of the best matching row\n",
    "    best_row, best_dist = None, np.inf\n",
    "    # loop through every row in the (name, address, distances) worksheet\n",
    "    for _, name_addr_dist_row in name_addr_dist.iterrows():\n",
    "            \n",
    "        # calculate absolute value distances\n",
    "        dist1 = abs(id_dist_row['Broadway Theatre'] - name_addr_dist_row['Broadway Theatre Distance'])\n",
    "        dist2 = abs(id_dist_row['Metropolitan Museum of Art'] - name_addr_dist_row['Metropolitan Museum of Art Distance'])\n",
    "        dist3 = abs(id_dist_row['Empire State Building'] - name_addr_dist_row['Empire State Building Distance'])\n",
    "        dist4 = abs(id_dist_row['One World Trade Center'] - name_addr_dist_row['One World Trade Center Distance'])\n",
    "        \n",
    "        # combine them into total absolute value distance\n",
    "        dist = dist1 + dist2 + dist3 + dist4\n",
    "        \n",
    "        # if this is the closest distance thus far, store it and the row as the best\n",
    "        if dist < best_dist:\n",
    "            best_dist = dist\n",
    "            best_row = name_addr_dist_row\n",
    "    \n",
    "    # create entry in new dataframe for the closest match\n",
    "    name_addr_ID['Share ID'][idx] = id_dist_row['Share ID']\n",
    "    name_addr_ID['Name'][idx], name_addr_ID['Address'][idx] = best_row['Name'], best_row['Address']\n",
    "\n",
    "print 'Progress:', len(id_dist['Share ID']), '/', len(id_dist['Share ID'])\n",
    "\n",
    "# save out new (name, address, ID) spreadsheet\n",
    "writer = pandas.ExcelWriter('../data/Name_Address_ID.xlsx')\n",
    "name_addr_ID.to_excel(writer, 'Names, Addresses, IDs')\n",
    "writer.close()"
   ]
  },
  {
   "cell_type": "code",
   "execution_count": null,
   "metadata": {
    "collapsed": true
   },
   "outputs": [],
   "source": []
  }
 ],
 "metadata": {
  "kernelspec": {
   "display_name": "Python 2",
   "language": "python",
   "name": "python2"
  },
  "language_info": {
   "codemirror_mode": {
    "name": "ipython",
    "version": 2
   },
   "file_extension": ".py",
   "mimetype": "text/x-python",
   "name": "python",
   "nbconvert_exporter": "python",
   "pygments_lexer": "ipython2",
   "version": "2.7.9"
  }
 },
 "nbformat": 4,
 "nbformat_minor": 1
}
